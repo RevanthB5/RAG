{
 "cells": [
  {
   "cell_type": "code",
   "execution_count": null,
   "metadata": {},
   "outputs": [],
   "source": [
    "'''\n",
    "LANGCHAIN_API_KEY = ...\n",
    "OPENAI_API_KEY = ...\n",
    "GOOGLE_API_KEY = ...\n",
    "LANGCHAIN_PROJECT = \"default\"\n",
    "'''\n",
    "\n",
    "# pip install langchain_community tiktoken langchainhub chromadb langchain langchainhub"
   ]
  },
  {
   "cell_type": "code",
   "execution_count": 117,
   "metadata": {},
   "outputs": [],
   "source": [
    "import bs4\n",
    "from langchain import hub\n",
    "from langchain.text_splitter import RecursiveCharacterTextSplitter\n",
    "from langchain_community.document_loaders import WebBaseLoader\n",
    "from langchain_community.vectorstores import Chroma\n",
    "from langchain_core.output_parsers import StrOutputParser\n",
    "from langchain_core.runnables import RunnablePassthrough\n",
    "from langchain_huggingface import HuggingFaceEmbeddings\n",
    "from langchain_google_genai import GoogleGenerativeAI, GoogleGenerativeAIEmbeddings\n",
    "from langchain_google_genai import ChatGoogleGenerativeAI\n",
    "from langchain_openai import ChatOpenAI\n",
    "import os"
   ]
  },
  {
   "cell_type": "code",
   "execution_count": 109,
   "metadata": {},
   "outputs": [],
   "source": [
    "os.environ['OPENAI_API_KEY'] = '...'\n",
    "os.environ['GOOGLE_API_KEY'] = '...'\n",
    "os.environ[\"LANGCHAIN_API_KEY\"] = \"...\"\n",
    "os.environ[\"LANGCHAIN_TRACING_V2\"] = \"true\"\n",
    "os.environ[\"LANGCHAIN_ENDPOINT\"] = \"https://api.smith.langchain.com\"\n",
    "os.environ['HUGGINGFACEHUB_API_TOKEN'] = '...'"
   ]
  },
  {
   "cell_type": "code",
   "execution_count": 38,
   "metadata": {},
   "outputs": [
    {
     "data": {
      "text/plain": [
       "'Hello there! How can I assist you today?'"
      ]
     },
     "execution_count": 38,
     "metadata": {},
     "output_type": "execute_result"
    }
   ],
   "source": [
    "llm = GoogleGenerativeAI(\n",
    "    google_api_key=os.getenv(\"GOOGLE_API_KEY\"),\n",
    "    model=\"models/gemini-pro\",\n",
    "    temperature=0.9,\n",
    "    # max_output_tokens=500\n",
    ")\n",
    "llm.invoke('HEY')"
   ]
  },
  {
   "cell_type": "code",
   "execution_count": 39,
   "metadata": {},
   "outputs": [
    {
     "data": {
      "text/plain": [
       "AIMessage(content='Hi there! How can I help you today?', response_metadata={'prompt_feedback': {'block_reason': 0, 'safety_ratings': []}, 'finish_reason': 'STOP', 'safety_ratings': [{'category': 'HARM_CATEGORY_SEXUALLY_EXPLICIT', 'probability': 'NEGLIGIBLE', 'blocked': False}, {'category': 'HARM_CATEGORY_HATE_SPEECH', 'probability': 'NEGLIGIBLE', 'blocked': False}, {'category': 'HARM_CATEGORY_HARASSMENT', 'probability': 'NEGLIGIBLE', 'blocked': False}, {'category': 'HARM_CATEGORY_DANGEROUS_CONTENT', 'probability': 'NEGLIGIBLE', 'blocked': False}]}, id='run-5b7574f3-5b97-4045-854c-a9523b19039e-0', usage_metadata={'input_tokens': 2, 'output_tokens': 10, 'total_tokens': 12})"
      ]
     },
     "execution_count": 39,
     "metadata": {},
     "output_type": "execute_result"
    }
   ],
   "source": [
    "llm = ChatGoogleGenerativeAI(\n",
    "    model=\"models/gemini-pro\",\n",
    ")\n",
    "llm.invoke(\"hey\")"
   ]
  },
  {
   "cell_type": "code",
   "execution_count": null,
   "metadata": {},
   "outputs": [],
   "source": [
    "llm = ChatOpenAI(model_name='gpt-3.5-turbo', temperature=0.9)\n"
   ]
  },
  {
   "cell_type": "markdown",
   "metadata": {},
   "source": [
    "# Part 1: Overview"
   ]
  },
  {
   "cell_type": "code",
   "execution_count": 30,
   "metadata": {},
   "outputs": [
    {
     "name": "stderr",
     "output_type": "stream",
     "text": [
      "D:\\Lib\\site-packages\\huggingface_hub\\file_download.py:1132: FutureWarning: `resume_download` is deprecated and will be removed in version 1.0.0. Downloads always resume when possible. If you want to force a new download, use `force_download=True`.\n",
      "  warnings.warn(\n"
     ]
    }
   ],
   "source": [
    "model_name = \"sentence-transformers/all-mpnet-base-v2\"\n",
    "model_kwargs = {'device': 'cpu'}\n",
    "encode_kwargs = {'normalize_embeddings': False}\n",
    "hf = HuggingFaceEmbeddings(\n",
    "    model_name=model_name,\n",
    "    model_kwargs=model_kwargs,\n",
    "    encode_kwargs=encode_kwargs\n",
    ")"
   ]
  },
  {
   "cell_type": "code",
   "execution_count": 22,
   "metadata": {},
   "outputs": [
    {
     "data": {
      "text/plain": [
       "[Document(page_content='\\n\\n\\n\\nPython (programming language) - Wikipedia\\n\\n\\n\\n\\n\\n\\n\\n\\n\\n\\n\\n\\n\\n\\n\\n\\n\\n\\n\\n\\n\\n\\n\\n\\n\\n\\n\\n\\n\\n\\n\\n\\n\\n\\n\\n\\nJump to content\\n\\n\\n\\n\\n\\n\\n\\nMain menu\\n\\n\\n\\n\\n\\nMain menu\\nmove to sidebar\\nhide\\n\\n\\n\\n\\t\\tNavigation\\n\\t\\n\\n\\nMain pageContentsCurrent eventsRandom articleAbout WikipediaContact usDonate\\n\\n\\n\\n\\n\\n\\t\\tContribute\\n\\t\\n\\n\\nHelpLearn to editCommunity portalRecent changesUpload file\\n\\n\\n\\n\\n\\n\\n\\n\\n\\n\\n\\n\\n\\n\\n\\n\\n\\n\\n\\nSearch\\n\\n\\n\\n\\n\\n\\n\\n\\n\\n\\n\\nSearch\\n\\n\\n\\n\\n\\n\\n\\n\\n\\n\\n\\n\\n\\n\\n\\n\\n\\n\\n\\n\\n\\n\\nAppearance\\n\\n\\n\\n\\n\\n\\n\\n\\n\\n\\n\\n\\n\\n\\n\\n\\nCreate account\\n\\nLog in\\n\\n\\n\\n\\n\\n\\n\\n\\nPersonal tools\\n\\n\\n\\n\\n\\n Create account Log in\\n\\n\\n\\n\\n\\n\\t\\tPages for logged out editors learn more\\n\\n\\n\\nContributionsTalk\\n\\n\\n\\n\\n\\n\\n\\n\\n\\n\\n\\n\\n\\n\\n\\n\\n\\n\\n\\n\\n\\n\\n\\n\\n\\n\\n\\n\\nContents\\nmove to sidebar\\nhide\\n\\n\\n\\n\\n(Top)\\n\\n\\n\\n\\n\\n1\\nHistory\\n\\n\\n\\n\\n\\n\\n\\n\\n2\\nDesign philosophy and features\\n\\n\\n\\n\\n\\n\\n\\n\\n3\\nSyntax and semantics\\n\\n\\n\\n\\nToggle Syntax and semantics subsection\\n\\n\\n\\n\\n\\n3.1\\nIndentation\\n\\n\\n\\n\\n\\n\\n\\n\\n3.2\\nStatements and control flow\\n\\n\\n\\n\\n\\n\\n\\n\\n3.3\\nExpressions\\n\\n\\n\\n\\n\\n\\n\\n\\n3.4\\nMethods\\n\\n\\n\\n\\n\\n\\n\\n\\n3.5\\nTyping\\n\\n\\n\\n\\n\\n\\n\\n\\n3.6\\nArithmetic operations\\n\\n\\n\\n\\n\\n\\n\\n\\n\\n\\n4\\nProgramming examples\\n\\n\\n\\n\\n\\n\\n\\n\\n5\\nLibraries\\n\\n\\n\\n\\n\\n\\n\\n\\n6\\nDevelopment environments\\n\\n\\n\\n\\n\\n\\n\\n\\n7\\nImplementations\\n\\n\\n\\n\\nToggle Implementations subsection\\n\\n\\n\\n\\n\\n7.1\\nReference implementation\\n\\n\\n\\n\\n\\n\\n\\n\\n7.2\\nOther implementations\\n\\n\\n\\n\\n\\n\\n\\n\\n7.3\\nUnsupported implementations\\n\\n\\n\\n\\n\\n\\n\\n\\n7.4\\nCross-compilers to other languages\\n\\n\\n\\n\\n\\n\\n\\n\\n7.5\\nPerformance\\n\\n\\n\\n\\n\\n\\n\\n\\n\\n\\n8\\nDevelopment\\n\\n\\n\\n\\n\\n\\n\\n\\n9\\nAPI documentation generators\\n\\n\\n\\n\\n\\n\\n\\n\\n10\\nNaming\\n\\n\\n\\n\\n\\n\\n\\n\\n11\\nPopularity\\n\\n\\n\\n\\n\\n\\n\\n\\n12\\nUses\\n\\n\\n\\n\\n\\n\\n\\n\\n13\\nLanguages influenced by Python\\n\\n\\n\\n\\n\\n\\n\\n\\n14\\nSee also\\n\\n\\n\\n\\n\\n\\n\\n\\n15\\nReferences\\n\\n\\n\\n\\nToggle References subsection\\n\\n\\n\\n\\n\\n15.1\\nSources\\n\\n\\n\\n\\n\\n\\n\\n\\n\\n\\n16\\nFurther reading\\n\\n\\n\\n\\n\\n\\n\\n\\n17\\nExternal links\\n\\n\\n\\n\\n\\n\\n\\n\\n\\n\\n\\n\\n\\n\\n\\n\\n\\n\\nToggle the table of contents\\n\\n\\n\\n\\n\\n\\n\\nPython (programming language)\\n\\n\\n\\n109 languages\\n\\n\\n\\n\\nAfrikaansAlemannischالعربيةAragonésঅসমীয়াAsturianuAzərbaycancaتۆرکجهBasa Baliবাংলা閩南語 / Bân-lâm-gúБеларускаяभोजपुरीБългарскиBosanskiBrezhonegCatalàCebuanoČeštinaCymraegDanskDeutschEestiΕλληνικάEspañolEsperantoEuskaraفارسیFrançaisGalegoગુજરાતી한국어HausaՀայերենहिन्दीHrvatskiIdoBahasa IndonesiaInterlinguaÍslenskaItalianoעבריתქართულიҚазақшаKiswahiliKurdîКыргызчаLatinaLatviešuLietuviųLa .lojban.LombardMagyarМакедонскиമലയാളംमराठीBahasa MelayuМонголမြန်မာဘာသာNa Vosa VakavitiNederlandsनेपाली日本語ߒߞߏNorsk bokmålNorsk nynorskଓଡ଼ିଆOʻzbekcha / ўзбекчаਪੰਜਾਬੀپنجابیភាសាខ្មែរPlattdüütschPolskiPortuguêsRomânăRuna SimiРусскийСаха тылаᱥᱟᱱᱛᱟᱲᱤScotsShqipසිංහලSimple EnglishSlovenčinaSlovenščinaکوردیСрпски / srpskiSrpskohrvatski / српскохрватскиSuomiSvenskaTagalogதமிழ்Татарча / tatarçaၽႃႇသႃႇတႆး తెలుగుไทยТоҷикӣTürkçeBasa UgiУкраїнськаاردوئۇيغۇرچە / UyghurcheTiếng ViệtWalon文言Winaray吴语粵語中文\\n\\nEdit links\\n\\n\\n\\n\\n\\n\\n\\n\\n\\n\\n\\nArticleTalk\\n\\n\\n\\n\\n\\nEnglish\\n\\n\\n\\n\\n\\n\\n\\n\\n\\n\\n\\n\\n\\n\\n\\n\\n\\nReadEditView history\\n\\n\\n\\n\\n\\n\\n\\nTools\\n\\n\\n\\n\\n\\nTools\\nmove to sidebar\\nhide\\n\\n\\n\\n\\t\\tActions\\n\\t\\n\\n\\nReadEditView history\\n\\n\\n\\n\\n\\n\\t\\tGeneral\\n\\t\\n\\n\\nWhat links hereRelated changesUpload fileSpecial pagesPermanent linkPage informationCite this pageGet shortened URLDownload QR codeWikidata item\\n\\n\\n\\n\\n\\n\\t\\tPrint/export\\n\\t\\n\\n\\nDownload as PDFPrintable version\\n\\n\\n\\n\\n\\n\\t\\tIn other projects\\n\\t\\n\\n\\nWikimedia CommonsMediaWikiWikibooksWikifunctionsWikiquoteWikiversity\\n\\n\\n\\n\\n\\n\\n\\n\\n\\n\\n\\n\\n\\n\\n\\n\\n\\n\\n\\n\\n\\nAppearance\\nmove to sidebar\\nhide\\n\\n\\n\\n\\n\\n\\n\\n\\n\\n\\nFrom Wikipedia, the free encyclopedia\\n\\n\\nGeneral-purpose programming language\\n\\n\\nPythonParadigmMulti-paradigm: object-oriented,[1] procedural (imperative), functional, structured, reflectiveDesigned\\xa0byGuido van RossumDeveloperPython Software FoundationFirst\\xa0appeared20\\xa0February 1991; 33 years ago\\xa0(1991-02-20)[2]Stable release3.12.4\\xa0\\n   / 6 June 2024; 9 days ago\\xa0(6 June 2024)\\nTyping disciplineduck, dynamic, strong;[3] optional type annotations (since 3.5, but those hints are ignored, except with unofficial tools)[4]OSTier 1: 64-bit Linux, macOS; 64- and 32-bit Windows 10+[5]Tier 2: E.g. 32-bit WebAssembly (WASI) Tier 3: 64-bit FreeBSD, iOS; e.g. Raspberry Pi OSUnofficial (or has been known to work): Other Unix-like/BSD variants and e.g. Android 5.0+ (official from Python 3.13 planned[6]) and a few other platforms[7][8][9]LicensePython Software Foundation LicenseFilename extensions.py, .pyw, .pyz,[10]\\n.pyi, .pyc, .pydWebsitepython.orgMajor implementationsCPython, PyPy, Stackless Python, MicroPython, CircuitPython, IronPython, JythonDialectsCython, RPython, Starlark[11]Influenced byABC,[12] Ada,[13] ALGOL 68,[14] APL,[15] C,[16] C++,[17] CLU,[18] Dylan,[19] Haskell,[20][15] Icon,[21] Lisp,[22] Modula-3,[14][17] Perl,[23] Standard ML[15]InfluencedApache Groovy, Boo, Cobra, CoffeeScript,[24] D, F#, GDScript, Genie,[25] Go, JavaScript,[26][27] Julia,[28] Mojo,[29] Nim, Ring,[30] Ruby,[31] Swift[32]\\n Python Programming at Wikibooks\\n\\nPython is a high-level, general-purpose programming language. Its design philosophy emphasizes code readability with the use of significant indentation.[33]\\nPython is dynamically typed and garbage-collected. It supports multiple programming paradigms, including structured (particularly procedural), object-oriented and functional programming. It is often described as a \"batteries included\" language due to its comprehensive standard library.[34][35]\\nGuido van Rossum began working on Python in the late 1980s as a successor to the ABC programming language and first released it in 1991 as Python\\xa00.9.0.[36] Python\\xa02.0 was released in 2000. Python\\xa03.0, released in 2008, was a major revision not completely backward-compatible with earlier versions. Python\\xa02.7.18, released in 2020, was the last release of Python\\xa02.[37]\\nPython consistently ranks as one of the most popular programming languages, and has gained widespread use in the machine learning community.[38][39][40][41]\\n\\n\\nHistory[edit]\\nThe designer of Python, Guido van Rossum, at OSCON 2006\\nMain article: History of Python\\nPython was invented in the late 1980s[42] by Guido van Rossum at Centrum Wiskunde & Informatica (CWI) in the Netherlands as a successor to the ABC programming language, which was inspired by SETL,[43] capable of exception handling and interfacing with the Amoeba operating system.[12] Its implementation began in December\\xa01989.[44] Van Rossum shouldered sole responsibility for the project, as the lead developer, until 12 July 2018, when he announced his \"permanent vacation\" from his responsibilities as Python\\'s \"benevolent dictator for life\" (BDFL), a title the Python community bestowed upon him to reflect his long-term commitment as the project\\'s chief decision-maker[45] (he\\'s since come out of retirement and is self-titled \"BDFL-emeritus\"). In January\\xa02019, active Python core developers elected a five-member Steering Council to lead the project.[46][47]\\nPython 2.0 was released on 16 October 2000, with many major new features such as list comprehensions, cycle-detecting garbage collection, reference counting, and Unicode support.[48] Python\\xa03.0, released on 3 December 2008, with many of its major features backported to Python\\xa02.6.x[49] and 2.7.x. Releases of Python\\xa03 include the 2to3 utility, which automates the translation of Python\\xa02 code to Python\\xa03.[50]\\nPython 2.7\\'s end-of-life was initially set for 2015, then postponed to 2020 out of concern that a large body of existing code could not easily be forward-ported to Python\\xa03.[51][52] No further security patches or other improvements will be released for it.[53][54] Currently only 3.8 and later are supported (2023 security issues were fixed in e.g. 3.7.17, the final 3.7.x release[55]). While Python 2.7 and older is officially unsupported, a different unofficial Python implementation, PyPy, continues to support Python 2, i.e. \"2.7.18+\" (plus 3.9 and 3.10), with the plus meaning (at least some) \"backported security updates\".[56]\\nIn 2021 (and again twice in 2022), security updates were expedited, since all Python versions were insecure (including 2.7[57]) because of security issues leading to possible remote code execution[58] and web-cache poisoning.[59] In 2022, Python\\xa03.10.4 and 3.9.12 were expedited[60] and 3.8.13, because of many security issues.[61] When Python\\xa03.9.13 was released in May 2022, it was announced that the 3.9 series (joining the older series 3.8 and 3.7) would only receive security fixes in the future.[62] On 7 September 2022, four new releases were made due to a potential denial-of-service attack: 3.10.7, 3.9.14, 3.8.14, and 3.7.14.[63][64]\\nAs of October\\xa02023,[update] Python 3.12 is the stable release, and 3.12 and 3.11 are the only versions with active (as opposed to just security) support. Notable changes in 3.11 from 3.10 include increased program execution speed and improved error reporting.[65]\\nPython 3.12 adds syntax (and in fact every Python since at least 3.5 adds some syntax) to the language, the new (soft) keyword type (recent releases have added a lot of typing support e.g. new type union operator in 3.10), and 3.11 for exception handling, and 3.10 the match and case (soft) keywords, for structural pattern matching statements. Python 3.12 also drops outdated modules and functionality, and future versions will too, see below in Development section.\\nPython 3.11 claims to be between 10 and 60% faster than Python 3.10, and Python 3.12 adds another 5% on top of that. It also has improved error messages, and many other changes.\\nSince 27\\xa0June\\xa02023[update], Python 3.8 is the oldest supported version of Python (albeit in the \\'security support\\' phase), due to Python 3.7 reaching end-of-life.[66]\\nPython 3.13 introduced an incremental (shorter pauses for collection in programs with a lot of objects) garbage collector, an experimental JIT compiler,[67] and removals from the C API. Some standard library modules, 19 dead batteries, and many deprecated classes, functions and methods, and more will be removed in Python 3.15 and or 3.16.[68] Starting with 3.13, it and later versions have 2 years of full support (up from one and a half); followed by 3 years of security support (for same total support as before).\\n\\nDesign philosophy and features[edit]\\nPython is a multi-paradigm programming language. Object-oriented programming and structured programming are fully supported, and many of their features support functional programming and aspect-oriented programming (including metaprogramming[69] and metaobjects).[70] Many other paradigms are supported via extensions, including design by contract[71][72] and logic programming.[73]\\nPython uses dynamic typing and a combination of reference counting and a cycle-detecting garbage collector for memory management.[74] It uses dynamic name resolution (late binding), which binds method and variable names during program execution.\\nIts design offers some support for functional programming in the Lisp tradition. It has filter,mapandreduce functions; list comprehensions, dictionaries, sets, and generator expressions.[75] The standard library has two modules (itertools and functools) that implement functional tools borrowed from Haskell and Standard ML.[76]\\nIts core philosophy is summarized in the Zen of Python (PEP 20), which includes aphorisms such as:[77]\\n\\nBeautiful is better than ugly.\\nExplicit is better than implicit.\\nSimple is better than complex.\\nComplex is better than complicated.\\nReadability counts.\\nHowever, Python features regularly violate these principles and received criticism for adding unnecessary language bloat.[78][79] Responses to these criticisms are that the Zen of Python is a guideline rather than a rule.[80] The addition of some new features had been so controversial that Guido van Rossum resigned as Benevolent Dictator for Life following vitriol over the addition of the assignment expression operator in Python 3.8.[81][82]\\nNevertheless, rather than building all of its functionality into its core, Python was designed to be highly extensible via modules. This compact modularity has made it particularly popular as a means of adding programmable interfaces to existing applications. Van Rossum\\'s vision of a small core language with a large standard library and easily extensible interpreter stemmed from his frustrations with ABC, which espoused the opposite approach.[42]\\nPython claims to strive for a simpler, less-cluttered syntax and grammar while giving developers a choice in their coding methodology. In contrast to Perl\\'s \"there is more than one way to do it\" motto, Python embraces a \"there should be one—and preferably only one—obvious way to do it.\" philosophy.[77] In practice, however, Python provides many ways to achieve the same task. There are, for example, at least three ways to format a string literal, with no certainty as to which one a programmer should use.[83] Alex Martelli, a Fellow at the Python Software Foundation and Python book author, wrote: \"To describe something as \\'clever\\' is not considered a compliment in the Python culture.\"[84]\\nPython\\'s developers usually strive to avoid premature optimization and reject patches to non-critical parts of the CPython reference implementation that would offer marginal increases in speed at the cost of clarity.[85] Execution speed can be improved by moving speed-critical functions to extension modules written in languages such as C, or by using a just-in-time compiler like PyPy. It is also possible to cross-compile to other languages, but it either doesn\\'t provide the full speed-up that might be expected, since Python is a very dynamic language, or a restricted subset of Python is compiled, and possibly semantics are slightly changed.[86]\\nPython\\'s developers aim for it to be fun to use. This is reflected in its name—a tribute to the British comedy group Monty Python[87]—and in occasionally playful approaches to tutorials and reference materials, such as the use of the terms \"spam\" and \"eggs\" (a reference to a Monty Python sketch) in examples, instead of the often-used \"foo\" and \"bar\".[88][89] A common neologism in the Python community is pythonic, which has a wide range of meanings related to program style. \"Pythonic\" code may use Python idioms well, be natural or show fluency in the language, or conform with Python\\'s minimalist philosophy and emphasis on readability. Code that is difficult to understand or reads like a rough transcription from another programming language is called unpythonic.[90]\\n\\nSyntax and semantics[edit]\\nMain article: Python syntax and semantics\\nPython is meant to be an easily readable language. Its formatting is visually uncluttered and often uses English keywords where other languages use punctuation. Unlike many other languages, it does not use curly brackets to delimit blocks, and semicolons after statements are allowed but rarely used. It has fewer syntactic exceptions and special cases than C or Pascal.[91]\\n\\nIndentation[edit]\\nMain article: Python syntax and semantics §\\xa0Indentation\\nPython uses whitespace indentation, rather than curly brackets or keywords, to delimit blocks. An increase in indentation comes after certain statements; a decrease in indentation signifies the end of the current block.[92] Thus, the program\\'s visual structure accurately represents its semantic structure.[93] This feature is sometimes termed the off-side rule. Some other languages use indentation this way; but in most, indentation has no semantic meaning. The recommended indent size is four spaces.[94]\\n\\nStatements and control flow[edit]\\nPython\\'s statements include:\\n\\nThe assignment statement, using a single equals sign =\\nThe if statement, which conditionally executes a block of code, along with else and elif (a contraction of else-if)\\nThe for statement, which iterates over an iterable object, capturing each element to a local variable for use by the attached block\\nThe while statement, which executes a block of code as long as its condition is true\\nThe try statement, which allows exceptions raised in its attached code block to be caught and handled by except clauses (or new syntax except* in Python 3.11 for exception groups[95]); it also ensures that clean-up code in a finally block is always run regardless of how the block exits\\nThe raise statement, used to raise a specified exception or re-raise a caught exception\\nThe class statement, which executes a block of code and attaches its local namespace to a class, for use in object-oriented programming\\nThe def statement, which defines a function or method\\nThe with statement, which encloses a code block within a context manager (for example, acquiring a lock before it is run, then releasing the lock; or opening and closing a file), allowing resource-acquisition-is-initialization (RAII)-like behavior and replacing a common try/finally idiom[96]\\nThe break statement, which exits a loop\\nThe continue statement, which skips the rest of the current iteration and continues with the next\\nThe del statement, which removes a variable—deleting the reference from the name to the value, and producing an error if the variable is referred to before it is redefined\\nThe pass statement, serving as a NOP, syntactically needed to create an empty code block\\nThe assert statement, used in debugging to check for conditions that should apply\\nThe yield statement, which returns a value from a generator function (and also an operator); used to implement coroutines\\nThe return statement, used to return a value from a function\\nThe import and from statements, used to import modules whose functions or variables can be used in the current program\\nThe assignment statement (=) binds a name as a reference to a separate, dynamically allocated object. Variables may subsequently be rebound at any time to any object. In Python, a variable name is a generic reference holder without a fixed data type; however, it always refers to some object with a type. This is called dynamic typing—in contrast to statically-typed languages, where each variable may contain only a value of a certain type.\\nPython does not support tail call optimization or first-class continuations, and, according to Van Rossum, it never will.[97][98] However, better support for coroutine-like functionality is provided by extending Python\\'s generators.[99] Before 2.5, generators were lazy iterators; data was passed unidirectionally out of the generator. From Python\\xa02.5 on, it is possible to pass data back into a generator function; and from version 3.3, it can be passed through multiple stack levels.[100]\\n\\nExpressions[edit]\\nPython\\'s expressions include:\\n\\nThe +, -, and * operators for mathematical addition, subtraction, and multiplication are similar to other languages, but the behavior of division differs. There are two types of divisions in Python: floor division (or integer division) // and floating-point/division.[101] Python uses the ** operator for exponentiation.\\nPython uses the + operator for string concatenation. Python uses the * operator for duplicating a string a specified number of times.\\nThe @ infix operator. It is intended to be used by libraries such as NumPy for matrix multiplication.[102][103]\\nThe syntax :=, called the \"walrus operator\", was introduced in Python 3.8. It assigns values to variables as part of a larger expression.[104]\\nIn Python, == compares by value. Python\\'s is operator may be used to compare object identities (comparison by reference), and comparisons may be chained—for example, a <= b <= c.\\nPython uses and, or, and not as Boolean operators.\\nPython has a type of expression named a list comprehension, and a more general expression named a generator expression.[75]\\nAnonymous functions are implemented using lambda expressions; however, there may be only one expression in each body.\\nConditional expressions are written as x if c else y[105] (different in order of operands from the c\\xa0? x\\xa0: y operator common to many other languages).\\nPython makes a distinction between lists and tuples. Lists are written as [1, 2, 3], are mutable, and cannot be used as the keys of dictionaries (dictionary keys must be immutable in Python). Tuples, written as (1, 2, 3), are immutable and thus can be used as keys of dictionaries, provided all of the tuple\\'s elements are immutable. The + operator can be used to concatenate two tuples, which does not directly modify their contents, but produces a new tuple containing the elements of both. Thus, given the variable t initially equal to (1, 2, 3), executing t = t + (4, 5) first evaluates t + (4, 5), which yields (1, 2, 3, 4, 5), which is then assigned back to t—thereby effectively \"modifying the contents\" of t while conforming to the immutable nature of tuple objects. Parentheses are optional for tuples in unambiguous contexts.[106]\\nPython features sequence unpacking where multiple expressions, each evaluating to anything that can be assigned (to a variable, writable property, etc.) are associated in an identical manner to that forming tuple literals—and, as a whole, are put on the left-hand side of the equal sign in an assignment statement. The statement expects an iterable object on the right-hand side of the equal sign that produces the same number of values as the provided writable expressions; when iterated through them, it assigns each of the produced values to the corresponding expression on the left.[107]\\nPython has a \"string format\" operator % that functions analogously to printf format strings in C—e.g. \"spam=%s eggs=%d\" % (\"blah\", 2) evaluates to \"spam=blah eggs=2\". In Python\\xa02.6+ and 3+, this was supplemented by the format() method of the str class, e.g. \"spam={0} eggs={1}\".format(\"blah\", 2). Python\\xa03.6 added \"f-strings\": spam = \"blah\"; eggs = 2; f\\'spam={spam} eggs={eggs}\\'.[108]\\nStrings in Python can be concatenated by \"adding\" them (with the same operator as for adding integers and floats), e.g. \"spam\" + \"eggs\" returns \"spameggs\". If strings contain numbers, they are added as strings rather than integers, e.g. \"2\" + \"2\" returns \"22\".\\nPython has various string literals:\\nDelimited by single or double quotes; unlike in Unix shells, Perl, and Perl-influenced languages, single and double quotes work the same. Both use the backslash (\\\\) as an escape character. String interpolation became available in Python\\xa03.6 as \"formatted string literals\".[108]\\nTriple-quoted (beginning and ending with three single or double quotes), which may span multiple lines and function like here documents in shells, Perl, and Ruby.\\nRaw string varieties, denoted by prefixing the string literal with r. Escape sequences are not interpreted; hence raw strings are useful where literal backslashes are common, such as regular expressions and Windows-style paths. (Compare \"@-quoting\" in C#.)\\nPython has array index and array slicing expressions in lists, denoted as a[key], a[start:stop] or a[start:stop:step]. Indexes are zero-based, and negative indexes are relative to the end. Slices take elements from the start index up to, but not including, the stop index. The third slice parameter, called step or stride, allows elements to be skipped and reversed. Slice indexes may be omitted—for example, a[:] returns a copy of the entire list. Each element of a slice is a shallow copy.\\nIn Python, a distinction between expressions and statements is rigidly enforced, in contrast to languages such as Common Lisp, Scheme, or Ruby. This leads to duplicating some functionality. For example:\\n\\nList comprehensions vs. for-loops\\nConditional expressions vs. if blocks\\nThe eval() vs. exec() built-in functions (in Python\\xa02, exec is a statement); the former is for expressions, the latter is for statements\\nStatements cannot be a part of an expression—so list and other comprehensions or lambda expressions, all being expressions, cannot contain statements. A particular case is that an assignment statement such as a = 1 cannot form part of the conditional expression of a conditional statement.\\n\\nMethods[edit]\\nMethods on objects are functions attached to the object\\'s class; the syntax instance.method(argument) is, for normal methods and functions, syntactic sugar for Class.method(instance, argument). Python methods have an explicit self parameter to access instance data, in contrast to the implicit self (or this) in some other object-oriented programming languages (e.g., C++, Java, Objective-C, Ruby).[109] Python also provides methods, often called dunder methods (due to their names beginning and ending with double-underscores), to allow user-defined classes to modify how they are handled by native operations including length, comparison, in arithmetic operations and type conversion.[110]\\n\\nTyping[edit]\\nThe standard type hierarchy in Python\\xa03\\nPython uses duck typing and has typed objects but untyped variable names. Type constraints are not checked at compile time; rather, operations on an object may fail, signifying that it is not of a suitable type. Despite being dynamically typed, Python is strongly typed, forbidding operations that are not well-defined (for example, adding a number to a string) rather than silently attempting to make sense of them.\\nPython allows programmers to define their own types using classes, most often used for object-oriented programming. New instances of classes are constructed by calling the class (for example, SpamClass() or EggsClass()), and the classes are instances of the metaclass type (itself an instance of itself), allowing metaprogramming and reflection.\\nBefore version\\xa03.0, Python had two kinds of classes (both using the same syntax):  old-style and new-style;[111] current Python versions only support the semantics of the new style.\\nPython supports optional type annotations.[4][112] These annotations are not enforced by the language, but may be used by external tools such as mypy to catch errors.[113][114] Mypy also supports a Python compiler called mypyc, which leverages type annotations for optimization.[115]\\n\\n\\nSummary of Python 3\\'s built-in types\\n\\n\\nType\\n\\nMutability\\n\\nDescription\\n\\nSyntax examples\\n\\n\\nbool\\n\\nimmutable\\n\\nBoolean value\\n\\nTrueFalse\\n\\n\\nbytearray\\n\\nmutable\\n\\nSequence of bytes\\n\\nbytearray(b\\'Some ASCII\\')bytearray(b\"Some ASCII\")bytearray([119, 105, 107, 105])\\n\\n\\nbytes\\n\\nimmutable\\n\\nSequence of bytes\\n\\nb\\'Some ASCII\\'b\"Some ASCII\"bytes([119, 105, 107, 105])\\n\\n\\ncomplex\\n\\nimmutable\\n\\nComplex number with real and imaginary parts\\n\\n3+2.7j3 + 2.7j\\n\\n\\ndict\\n\\nmutable\\n\\nAssociative array (or dictionary) of key and value pairs; can contain mixed types (keys and values), keys must be a hashable type\\n\\n{\\'key1\\': 1.0, 3: False}{}\\n\\n\\ntypes.EllipsisType\\n\\nimmutable\\n\\nAn ellipsis placeholder to be used as an index in NumPy arrays\\n\\n...Ellipsis\\n\\n\\nfloat\\n\\nimmutable\\n\\nDouble-precision floating-point number. The precision is machine-dependent but in practice is generally implemented as a 64-bit IEEE\\xa0754 number with 53\\xa0bits of precision.[116]\\n\\n\\n1.33333\\n\\n\\n\\nfrozenset\\n\\nimmutable\\n\\nUnordered set, contains no duplicates; can contain mixed types, if hashable\\n\\nfrozenset([4.0, \\'string\\', True])\\n\\n\\nint\\n\\nimmutable\\n\\nInteger of unlimited magnitude[117]\\n\\n42\\n\\n\\nlist\\n\\nmutable\\n\\nList, can contain mixed types\\n\\n[4.0, \\'string\\', True][]\\n\\n\\ntypes.NoneType\\n\\nimmutable\\n\\nAn object representing the absence of a value, often called null in other languages\\n\\nNone\\n\\n\\ntypes.NotImplementedType\\n\\nimmutable\\n\\nA placeholder that can be returned from overloaded operators to indicate unsupported operand types.\\n\\nNotImplemented\\n\\n\\nrange\\n\\nimmutable\\n\\nAn immutable sequence of numbers commonly used for looping a specific number of times in for loops[118]\\n\\nrange(-1, 10)range(10, -5, -2)\\n\\n\\nset\\n\\nmutable\\n\\nUnordered set, contains no duplicates; can contain mixed types, if hashable\\n\\n{4.0, \\'string\\', True}set()\\n\\n\\nstr\\n\\nimmutable\\n\\nA character string: sequence of Unicode codepoints\\n\\n\\'Wikipedia\\'\"Wikipedia\"\"\"\"Spanning\\nmultiple\\nlines\"\"\"\\nSpanning\\nmultiple\\nlines\\n\\n\\n\\ntuple\\n\\nimmutable\\n\\nCan contain mixed types\\n\\n(4.0, \\'string\\', True)(\\'single element\\',)()\\n\\nArithmetic operations[edit]\\nPython has the usual symbols for arithmetic operators (+, -, *, /), the floor division operator // and the modulo operation % (where the remainder can be negative, e.g. 4\\xa0% -3 == -2). It also has ** for exponentiation, e.g. 5**3 == 125 and 9**0.5 == 3.0, and a matrix‑multiplication operator @ .[119] These operators work like in traditional math; with the same precedence rules, the operators infix (+ and - can also be unary to represent positive and negative numbers respectively).\\nThe division between integers produces floating-point results. The behavior of division has changed significantly over time:[120]\\n\\nCurrent Python (i.e. since 3.0) changed / to always be floating-point division, e.g. 5/2 == 2.5.\\nThe floor division // operator was introduced. So 7//3 == 2, -7//3 == -3, 7.5//3 == 2.0 and -7.5//3 == -3.0. Adding from __future__ import division causes a module used in Python 2.7 to use Python\\xa03.0 rules for division (see above).\\nIn Python terms, / is true division (or simply division), and // is floor division. / before version 3.0 is classic division.[120]\\nRounding towards negative infinity, though different from most languages, adds consistency. For instance, it means that the equation (a + b)//b == a//b + 1 is always true. It also means that the equation b*(a//b) + a%b == a is valid for both positive and negative values of a. However, maintaining the validity of this equation means that while the result of a%b is, as expected, in the half-open interval [0, b), where b is a positive integer, it has to lie in the interval (b, 0] when b is negative.[121]\\nPython provides a round function for rounding a float to the nearest integer. For tie-breaking, Python\\xa03 uses round to even: round(1.5) and round(2.5) both produce 2.[122] Versions before 3 used round-away-from-zero: round(0.5) is 1.0, round(-0.5) is −1.0.[123]\\nPython allows Boolean expressions with multiple equality relations in a manner that is consistent with general use in mathematics. For example, the expression a < b < c tests whether a is less than b and b is less than c.[124] C-derived languages interpret this expression differently: in C, the expression would first evaluate a < b, resulting in 0 or 1, and that result would then be compared with c.[125]\\nPython uses arbitrary-precision arithmetic for all integer operations. The Decimal type/class in the decimal module provides decimal floating-point numbers to a pre-defined arbitrary precision and several rounding modes.[126] The Fraction class in the fractions module provides arbitrary precision for rational numbers.[127]\\nDue to Python\\'s extensive mathematics library, and the third-party library NumPy that further extends the native capabilities, it is frequently used as a scientific scripting language to aid in problems such as numerical data processing and manipulation.[128][129]\\n\\nProgramming examples[edit]\\n\"Hello, World!\" program:\\n\\nprint(\\'Hello, world!\\')\\n\\nProgram to calculate the factorial of a positive integer:\\n\\nn = int(input(\\'Type a number, and its factorial will be printed: \\'))\\n\\nif n < 0:\\n    raise ValueError(\\'You must enter a non-negative integer\\')\\n\\nfactorial = 1\\nfor i in range(2, n + 1):\\n    factorial *= i\\n\\nprint(factorial)\\n\\nLibraries[edit]\\nPython\\'s large standard library[130] provides tools suited to many tasks and is commonly cited as one of its greatest strengths. For Internet-facing applications, many standard formats and protocols such as MIME and HTTP are supported. It includes modules for creating graphical user interfaces, connecting to relational databases, generating pseudorandom numbers, arithmetic with arbitrary-precision decimals,[126] manipulating regular expressions, and unit testing.\\nSome parts of the standard library are covered by specifications—for example, the Web Server Gateway Interface (WSGI) implementation wsgiref follows PEP 333[131]—but most are specified by their code, internal documentation, and test suites. However, because most of the standard library is cross-platform Python code, only a few modules need altering or rewriting for variant implementations.\\nAs of 17\\xa0March\\xa02024,[update] the Python Package Index (PyPI), the official repository for third-party Python software, contains over 523,000[132] packages with a wide range of functionality, including:\\n\\n\\nAutomation\\nData analytics\\nDatabases\\nDocumentation\\nGraphical user interfaces\\nImage processing\\nMachine learning\\nMobile apps\\nMultimedia\\nComputer networking\\nScientific computing\\nSystem administration\\nTest frameworks\\nText processing\\nWeb frameworks\\nWeb scraping\\nDevelopment environments[edit]\\nSee also: Comparison of integrated development environments §\\xa0Python\\nMost Python implementations (including CPython) include a read–eval–print loop (REPL), permitting them to function as a command line interpreter for which users enter statements sequentially and receive results immediately.\\nPython also comes with an Integrated development environment (IDE) called IDLE, which is more beginner-oriented.\\nOther shells, including IDLE and IPython, add further abilities such as improved auto-completion, session state retention, and syntax highlighting.\\nAs well as standard desktop integrated development environments including PyCharm, IntelliJ Idea, Visual Studio Code etc, there are web browser-based IDEs, including SageMath, for developing science- and math-related programs; PythonAnywhere, a browser-based IDE and hosting environment; and Canopy IDE, a commercial IDE emphasizing scientific computing.[133]\\n\\nImplementations[edit]\\nSee also: List of Python software §\\xa0Python implementations\\nReference implementation[edit]\\nCPython is the reference implementation of Python. It is written in C, meeting the C89 standard (Python 3.11 uses C11[134]) with several select C99 features. CPython includes its own C extensions, but third-party extensions are not limited to older C versions—e.g. they can be implemented with C11 or C++.[135][136] CPython compiles Python programs into an intermediate bytecode[137] which is then executed by its virtual machine.[138] CPython is distributed with a large standard library written in a mixture of C and native Python, and is available for many platforms, including Windows (starting with Python\\xa03.9, the Python installer deliberately fails to install on Windows 7 and 8;[139][140] Windows XP was supported until Python\\xa03.5) and most modern Unix-like systems, including macOS (and Apple M1 Macs, since Python\\xa03.9.1, with experimental installer), with unofficial support for VMS.[141] Platform portability was one of its earliest priorities.[142] (During Python\\xa01 and 2 development, even OS/2 and Solaris were supported,[143] but support has since been dropped for many platforms.)\\nPython, since 3.7, only supports operating systems with multi-threading support.\\n\\nOther implementations[edit]\\nPyPy is a fast, compliant interpreter of Python\\xa02.7 and 3.8.[144][145] Its just-in-time compiler often brings a significant speed improvement over CPython, but some libraries written in C cannot be used with it.[146]\\nStackless Python is a significant fork of CPython that implements microthreads; it does not use the call stack in the same way, thus allowing massively concurrent programs. PyPy also has a stackless version.[147]\\nMicroPython and CircuitPython are Python\\xa03 variants optimized for microcontrollers, including Lego Mindstorms EV3.[148]\\nPyston is a variant of the Python runtime that uses just-in-time compilation to speed up the execution of Python programs.[149]\\nCinder is a performance-oriented fork of CPython 3.8 that contains a number of optimizations, including bytecode inline caching, eager evaluation of coroutines, a method-at-a-time JIT, and an experimental bytecode compiler.[150]\\nSnek[151][152][153] Embedded Computing Language (compatible with e.g. 8-bit AVR microcontrollers such as ATmega 328P-based Arduino, as well as larger ones compatible with MicroPython) \"is Python-inspired, but it is not Python. It is possible to write Snek programs that run under a full Python system, but most Python programs will not run under Snek.\"[154] It is an imperative language not including OOP / classes, unlike Python, and simplifying to one number type with 32-bit single-precision (similar to JavaScript, except smaller).\\nUnsupported implementations[edit]\\nOther just-in-time Python compilers have been developed, but are now unsupported:\\n\\nGoogle began a project named Unladen Swallow in 2009, with the aim of speeding up the Python interpreter five-fold by using the LLVM, and of improving its multithreading ability to scale to thousands of cores,[155] while ordinary implementations suffer from the global interpreter lock.\\nPsyco is a discontinued just-in-time specializing compiler that integrates with CPython and transforms bytecode to machine code at runtime. The emitted code is specialized for certain data types and is faster than the standard Python code. Psyco does not support Python\\xa02.7 or later.\\nPyS60 was a Python\\xa02 interpreter for Series 60 mobile phones released by Nokia in 2005. It implemented many of the modules from the standard library and some additional modules for integrating with the Symbian operating system. The Nokia N900 also supports Python with GTK widget libraries, enabling programs to be written and run on the target device.[156]\\nCross-compilers to other languages[edit]\\nThere are several compilers/transpilers to high-level object languages, with either unrestricted Python, a restricted subset of Python, or a language similar to Python as the source language:\\n\\nBrython,[157] Transcrypt[158][159] and Pyjs (latest release in 2012) compile Python to JavaScript.\\nCodon compiles a subset of statically typed Python[160] to machine code (via LLVM) and supports native multithreading.[161]\\nCython compiles (a superset of) Python to C. The resulting code is also usable with Python via direct C-level API calls into the Python interpreter.\\nPyJL compiles/transpiles a subset of Python to \"human-readable, maintainable, and high-performance Julia source code\".[86] Despite claiming high performance, no tool can claim to do that for arbitrary Python code; i.e. it\\'s known not possible to compile to a faster language or machine code. Unless semantics of Python are changed, but in many cases speedup is possible with few or no changes in the Python code. The faster Julia source code can then be used from Python, or compiled to machine code, and based that way.\\nNuitka compiles Python into C.[162]\\nNumba uses LLVM to compile a subset of Python to machine code.\\nPythran compiles a subset of Python\\xa03 to C++ (C++11).[163]\\nRPython can be compiled to C, and is used to build the PyPy interpreter of Python.\\nThe Python → 11l → C++ transpiler[164] compiles a subset of Python\\xa03 to C++ (C++17).\\nSpecialized:\\n\\nMyHDL is a Python-based hardware description language (HDL), that converts MyHDL code to Verilog or VHDL code.\\nOlder projects (or not to be used with Python 3.x and latest syntax):\\n\\nGoogle\\'s Grumpy (latest release in 2017) transpiles Python\\xa02 to Go.[165][166][167]\\nIronPython allows running Python\\xa02.7 programs (and an alpha, released in 2021, is also available for \"Python\\xa03.4, although features and behaviors from later versions may be included\"[168]) on the .NET Common Language Runtime.[169]\\nJython compiles Python\\xa02.7 to Java bytecode, allowing the use of the Java libraries from a Python program.[170]\\nPyrex (latest release in 2010) and Shed Skin (latest release in 2013) compile to C and C++ respectively.\\nPerformance[edit]\\nPerformance comparison of various Python implementations on a non-numerical (combinatorial) workload was presented at EuroSciPy \\'13.[171] Python\\'s performance compared to other programming languages is also benchmarked by The Computer Language Benchmarks Game.[172]\\n\\nDevelopment[edit]\\nPython\\'s development is conducted largely through the Python Enhancement Proposal (PEP) process, the primary mechanism for proposing major new features, collecting community input on issues, and documenting Python design decisions.[173] Python coding style is covered in PEP\\xa08.[174] Outstanding PEPs are reviewed and commented on by the Python community and the steering council.[173]\\nEnhancement of the language corresponds with the development of the CPython reference implementation. The mailing list python-dev is the primary forum for the language\\'s development. Specific issues were originally discussed in the Roundup bug tracker hosted at by the foundation.[175] In 2022, all issues and discussions were migrated to GitHub.[176] Development originally took place on a self-hosted source-code repository running Mercurial, until Python moved to GitHub in January 2017.[177]\\nCPython\\'s public releases come in three types, distinguished by which part of the version number is incremented:\\n\\nBackward-incompatible versions, where code is expected to break and needs to be manually ported. The first part of the version number is incremented. These releases happen infrequently—version 3.0 was released 8 years after 2.0. According to Guido van Rossum, a version 4.0 is very unlikely to ever happen.[178]\\nMajor or \"feature\" releases are largely compatible with the previous version but introduce new features. The second part of the version number is incremented. Starting with Python\\xa03.9, these releases are expected to happen annually.[179][180] Each major version is supported by bug fixes for several years after its release.[181]\\nBugfix releases,[182] which introduce no new features, occur about every 3 months and are made when a sufficient number of bugs have been fixed upstream since the last release. Security vulnerabilities are also patched in these releases. The third and final part of the version number is incremented.[182]\\nMany alpha, beta, and release-candidates are also released as previews and for testing before final releases. Although there is a rough schedule for each release, they are often delayed if the code is not ready. Python\\'s development team monitors the state of the code by running the large unit test suite during development.[183]\\nThe major academic conference on Python is PyCon. There are also special Python mentoring programs, such as PyLadies.\\nPython 3.12 removed wstr meaning Python extensions[184] need to be modified,[185] and 3.10 added pattern matching to the language.[186]\\nPython 3.12 dropped some outdated modules, and more will be dropped in the future, deprecated as of 3.13; already deprecated array \\'u\\' format code will emit DeprecationWarning since 3.13 and will be removed in Python 3.16. The \\'w\\' format code should be used instead. Part of ctypes is also deprecated and http.server.CGIHTTPRequestHandler will emit a DeprecationWarning, and will be removed in 3.15. Using that code already has a high potential for both security and functionality bugs. Parts of the typing module are deprecated, e.g. creating a typing.NamedTuple class using keyword arguments to denote the fields and such (and more) will be disallowed in Python 3.15.\\n\\nAPI documentation generators[edit]\\nTools that can generate documentation for Python API include pydoc (available as part of the standard library), Sphinx, Pdoc and its forks, Doxygen and Graphviz, among others.[187]\\n\\nNaming[edit]\\nPython\\'s name is derived from the British comedy group Monty Python, whom Python creator Guido van Rossum enjoyed while developing the language. Monty Python references appear frequently in Python code and culture;[188] for example, the metasyntactic variables often used in Python literature are spam and eggs instead of the traditional foo and bar.[188][189] The official Python documentation also contains various references to Monty Python routines.[190][191] Users of Python are sometimes referred to as \"Pythonistas\".[192]\\nThe prefix Py- is used to show that something is related to Python. Examples of the use of this prefix in names of Python applications or libraries include Pygame, a binding of SDL to Python (commonly used to create games); PyQt and PyGTK, which bind Qt and GTK to Python respectively; and PyPy, a Python implementation originally written in Python.\\n\\nPopularity[edit]\\nSince 2003, Python has consistently ranked in the top ten most popular programming languages in the TIOBE Programming Community Index where as of December\\xa02022[update] it was the most popular language (ahead of C, C++, and Java).[40] It was selected as Programming Language of the Year (for \"the highest rise in ratings in a year\") in 2007, 2010, 2018, and 2020 (the only language to have done so four times as of 2020[update][193]).\\nLarge organizations that use Python include Wikipedia, Google,[194] Yahoo!,[195] CERN,[196] NASA,[197] Facebook,[198] Amazon, Instagram,[199] Spotify,[200] and some smaller entities like ILM[201] and ITA.[202] The social news networking site Reddit was written mostly in Python.[203]\\n\\nUses[edit]\\nMain article: List of Python software\\nPython Powered\\nPython can serve as a scripting language for web applications, e.g. via mod_wsgi for the Apache webserver.[204] With Web Server Gateway Interface, a standard API has evolved to facilitate these applications. Web frameworks like Django, Pylons, Pyramid, TurboGears, web2py, Tornado, Flask, Bottle, and Zope support developers in the design and maintenance of complex applications. Pyjs and IronPython can be used to develop the client-side of Ajax-based applications. SQLAlchemy can be used as a data mapper to a relational database. Twisted is a framework to program communications between computers, and is used (for example) by Dropbox.\\nLibraries such as NumPy, SciPy and Matplotlib allow the effective use of Python in scientific computing,[205][206] with specialized libraries such as Biopython and Astropy providing domain-specific functionality. SageMath is a computer algebra system with a notebook interface programmable in Python: its library covers many aspects of mathematics, including algebra, combinatorics, numerical mathematics, number theory, and calculus.[207] OpenCV has Python bindings with a rich set of features for computer vision and image processing.[208]\\nPython is commonly used in artificial intelligence projects and machine learning projects with the help of libraries like TensorFlow, Keras, Pytorch, scikit-learn and the Logic language ProbLog.[209][210][211][212][213] As a scripting language with a modular architecture, simple syntax, and rich text processing tools, Python is often used for natural language processing.[214]\\nThe combination of Python and Prolog has proved to be particularly useful for AI applications, with Prolog providing knowledge representation and reasoning capablities. The Janus system, in particular, exploits the similarites between these two languages,\\nin part because of their use of dynamic typing, and the simple recursive nature of their\\ndata structures. Typical applications of this combination include  natural language processing, visual query\\nanswering, geospatial reasoning, and handling of semantic web data.[215][216]\\nThe Natlog system, implemented in Python, uses Definite Clause Grammars (DCGs) as prompt generators for text-to-text generators like GPT3 and text-to-image generators like DALL-E or Stable Diffusion.[217]\\nPython can also be used for graphical user interface (GUI) by using libraries like Tkinter.[218][219]\\nPython has been successfully embedded in many software products as a scripting language, including in finite element method software such as Abaqus, 3D parametric modelers like FreeCAD, 3D animation packages such as 3ds Max, Blender, Cinema 4D, Lightwave, Houdini, Maya, modo, MotionBuilder, Softimage, the visual effects compositor Nuke, 2D imaging programs like GIMP,[220] Inkscape, Scribus and Paint Shop Pro,[221] and musical notation programs like scorewriter and capella. GNU Debugger uses Python as a pretty printer to show complex structures such as C++ containers. Esri promotes Python as the best choice for writing scripts in ArcGIS.[222] It has also been used in several video games,[223][224] and has been adopted as first of the three available programming languages in Google App Engine, the other two being Java and Go.[225]\\nMany operating systems include Python as a standard component. It ships with most Linux distributions,[226] AmigaOS 4 (using Python\\xa02.7), FreeBSD (as a package), NetBSD, and OpenBSD (as a package) and can be used from the command line (terminal). Many Linux distributions use installers written in Python: Ubuntu uses the Ubiquity installer, while Red Hat Linux and Fedora Linux use the Anaconda installer. Gentoo Linux uses Python in its package management system, Portage.\\nPython is used extensively in the information security industry, including in exploit development.[227][228]\\nMost of the Sugar software for the One Laptop per Child XO, developed at Sugar Labs as of 2008[update], is written in Python.[229] The Raspberry Pi single-board computer project has adopted Python as its main user-programming language.\\nLibreOffice includes Python and intends to replace Java with Python. Its Python Scripting Provider is a core feature[230] since Version 4.0 from 7 February 2013.\\n\\nLanguages influenced by Python[edit]\\nPython\\'s design and philosophy have influenced many other programming languages:\\n\\nBoo uses indentation, a similar syntax, and a similar object model.[231]\\nCobra uses indentation and a similar syntax, and its Acknowledgements document lists Python first among languages that influenced it.[232]\\nCoffeeScript, a programming language that cross-compiles to JavaScript, has Python-inspired syntax.\\nECMAScript–JavaScript borrowed iterators and generators from Python.[233]\\nGDScript, a scripting language very similar to Python, built-in to the Godot game engine.[234]\\nGo is designed for the \"speed of working in a dynamic language like Python\"[235] and shares the same syntax for slicing arrays.\\nGroovy was motivated by the desire to bring the Python design philosophy to Java.[236]\\nJulia was designed to be \"as usable for general programming as Python\".[28]\\nMojo is a non-strict[29][237] superset of Python (e.g. still missing classes, and adding e.g. struct).[238]\\nNim uses indentation and similar syntax.[239]\\nRuby\\'s creator, Yukihiro Matsumoto, has said: \"I wanted a scripting language that was more powerful than Perl, and more object-oriented than Python. That\\'s why I decided to design my own language.\"[240]\\nSwift, a programming language developed by Apple, has some Python-inspired syntax.[241]\\nKotlin blends Python and Java features, minimizing boilerplate code for enhanced developer efficiency.[242]\\nPython\\'s development practices have also been emulated by other languages. For example, the practice of requiring a document describing the rationale for, and issues surrounding, a change to the language (in Python, a PEP) is also used in Tcl,[243] Erlang,[244] and Swift.[245]\\n\\nSee also[edit]\\n\\nComputer programming portalFree and open-source software portal\\nPython syntax and semantics\\npip (package manager)\\nList of programming languages\\nHistory of programming languages\\nComparison of programming languages\\n\\nReferences[edit]\\n\\n\\n^ \"General Python FAQ – Python 3.9.2 documentation\". docs.python.org. Archived from the original on 24 October 2012. Retrieved 28 March 2021.\\n\\n^ \"Python 0.9.1 part 01/21\". alt.sources archives. Archived from the original on 11 August 2021. Retrieved 11 August 2021.\\n\\n^ \"Why is Python a dynamic language and also a strongly typed language\". Python Wiki. Archived from the original on 14 March 2021. Retrieved 27 January 2021.\\n\\n^ a b \"PEP 483 – The Theory of Type Hints\". Python.org. Archived from the original on 14 June 2020. Retrieved 14 June 2018.\\n\\n^ \"PEP 11 – CPython platform support | peps.python.org\". Python Enhancement Proposals (PEPs). Retrieved 22 April 2024.\\n\\n^ \"PEP 738 – Adding Android as a supported platform | peps.python.org\". Python Enhancement Proposals (PEPs). Retrieved 19 May 2024.\\n\\n^ \"Download Python for Other Platforms\". Python.org. Archived from the original on 27 November 2020. Retrieved 18 August 2023.\\n\\n^ \"test – Regression tests package for Python – Python 3.7.13 documentation\". docs.python.org. Archived from the original on 17 May 2022. Retrieved 17 May 2022.\\n\\n^ \"platform – Access to underlying platform\\'s identifying data – Python 3.10.4 documentation\". docs.python.org. Archived from the original on 17 May 2022. Retrieved 17 May 2022.\\n\\n^ Holth, Moore (30 March 2014). \"PEP 0441 – Improving Python ZIP Application Support\". Archived from the original on 26 December 2018. Retrieved 12 November 2015.\\n\\n^ \"Starlark Language\". Archived from the original on 15 June 2020. Retrieved 25 May 2019.\\n\\n^ a b \"Why was Python created in the first place?\". General Python FAQ. Python Software Foundation. Archived from the original on 24 October 2012. Retrieved 22 March 2007. I had extensive experience with implementing an interpreted language in the ABC group at CWI, and from working with this group I had learned a lot about language design. This is the origin of many Python features, including the use of indentation for statement grouping and the inclusion of very high-level data types (although the details are all different in Python).\\n\\n^ \"Ada 83 Reference Manual (raise statement)\". Archived from the original on 22 October 2019. Retrieved 7 January 2020.\\n\\n^ a b Kuchling, Andrew M. (22 December 2006). \"Interview with Guido van Rossum (July 1998)\". amk.ca. Archived from the original on 1 May 2007. Retrieved 12 March 2012. I\\'d spent a summer at DEC\\'s Systems Research Center, which introduced me to Modula-2+; the Modula-3 final report was being written there at about the same time. What I learned there later showed up in Python\\'s exception handling, modules, and the fact that methods explicitly contain \\'self\\' in their parameter list. String slicing came from Algol-68 and Icon.\\n\\n^ a b c \"itertools – Functions creating iterators for efficient looping – Python 3.7.1 documentation\". docs.python.org. Archived from the original on 14 June 2020. Retrieved 22 November 2016. This module implements a number of iterator building blocks inspired by constructs from APL, Haskell, and SML.\\n\\n^ van Rossum, Guido (1993). \"An Introduction to Python for UNIX/C Programmers\". Proceedings of the NLUUG Najaarsconferentie (Dutch UNIX Users Group). CiteSeerX\\xa010.1.1.38.2023. even though the design of C is far from ideal, its influence on Python is considerable.\\n\\n^ a b \"Classes\". The Python Tutorial. Python Software Foundation. Archived from the original on 23 October 2012. Retrieved 20 February 2012. It is a mixture of the class mechanisms found in C++ and Modula-3\\n\\n^ Lundh, Fredrik. \"Call By Object\". effbot.org. Archived from the original on 23 November 2019. Retrieved 21 November 2017. replace \"CLU\" with \"Python\", \"record\" with \"instance\", and \"procedure\" with \"function or method\", and you get a pretty accurate description of Python\\'s object model.\\n\\n^ Simionato, Michele. \"The Python 2.3 Method Resolution Order\". Python Software Foundation. Archived from the original on 20 August 2020. Retrieved 29 July 2014. The C3 method itself has nothing to do with Python, since it was invented by people working on Dylan and it is described in a paper intended for lispers\\n\\n^ Kuchling, A. M. \"Functional Programming HOWTO\". Python v2.7.2 documentation. Python Software Foundation. Archived from the original on 24 October 2012. Retrieved 9 February 2012. List comprehensions and generator expressions [...] are a concise notation for such operations, borrowed from the functional programming language Haskell.\\n\\n^ Schemenauer, Neil; Peters, Tim; Hetland, Magnus Lie (18 May 2001). \"PEP 255\\xa0– Simple Generators\". Python Enhancement Proposals. Python Software Foundation. Archived from the original on 5 June 2020. Retrieved 9 February 2012.\\n\\n^ \"More Control Flow Tools\". Python 3 documentation. Python Software Foundation. Archived from the original on 4 June 2016. Retrieved 24 July 2015. By popular demand, a few features commonly found in functional programming languages like Lisp have been added to Python. With the lambda keyword, small anonymous functions can be created.\\n\\n^ \"re – Regular expression operations – Python 3.10.6 documentation\". docs.python.org. Archived from the original on 18 July 2018. Retrieved 6 September 2022. This module provides regular expression matching operations similar to those found in Perl.\\n\\n^ \"CoffeeScript\". coffeescript.org. Archived from the original on 12 June 2020. Retrieved 3 July 2018.\\n\\n^ \"The Genie Programming Language Tutorial\". Archived from the original on 1 June 2020. Retrieved 28 February 2020.\\n\\n^ \"Perl and Python influences in JavaScript\". www.2ality.com. 24 February 2013. Archived from the original on 26 December 2018. Retrieved 15 May 2015.\\n\\n^ Rauschmayer, Axel. \"Chapter 3: The Nature of JavaScript; Influences\". O\\'Reilly, Speaking JavaScript. Archived from the original on 26 December 2018. Retrieved 15 May 2015.\\n\\n^ a b \"Why We Created Julia\". Julia website. February 2012. Archived from the original on 2 May 2020. Retrieved 5 June 2014. We want something as usable for general programming as Python [...]\\n\\n^ a b Krill, Paul (4 May 2023). \"Mojo language marries Python and MLIR for AI development\". InfoWorld. Archived from the original on 5 May 2023. Retrieved 5 May 2023.\\n\\n^ Ring Team (4 December 2017). \"Ring and other languages\". ring-lang.net. ring-lang. Archived from the original on 25 December 2018. Retrieved 4 December 2017.\\n\\n^ Bini, Ola (2007). Practical JRuby on Rails Web 2.0 Projects: bringing Ruby on Rails to the Java platform. Berkeley: APress. p.\\xa03. ISBN\\xa0978-1-59059-881-8.\\n\\n^ Lattner, Chris (3 June 2014). \"Chris Lattner\\'s Homepage\". Chris Lattner. Archived from the original on 25 December 2018. Retrieved 3 June 2014. The Swift language is the product of tireless effort from a team of language experts, documentation gurus, compiler optimization ninjas, and an incredibly important internal dogfooding group who provided feedback to help refine and battle-test ideas. Of course, it also greatly benefited from the experiences hard-won by many other languages in the field, drawing ideas from Objective-C, Rust, Haskell, Ruby, Python, C#, CLU, and far too many others to list.\\n\\n^ Kuhlman, Dave. \"A Python Book: Beginning Python, Advanced Python, and Python Exercises\". Section 1.1. Archived from the original (PDF) on 23 June 2012.\\n\\n^ \"About Python\". Python Software Foundation. Archived from the original on 20 April 2012. Retrieved 24 April 2012., second section \"Fans of Python use the phrase \"batteries included\" to describe the standard library, which covers everything from asynchronous processing to zip files.\"\\n\\n^ \"PEP 206 – Python Advanced Library\". Python.org. Archived from the original on 5 May 2021. Retrieved 11 October 2021.\\n\\n^ Rossum, Guido Van (20 January 2009). \"The History of Python: A Brief Timeline of Python\". The History of Python. Archived from the original on 5 June 2020. Retrieved 5 March 2021.\\n\\n^ Peterson, Benjamin (20 April 2020). \"Python 2.7.18, the last release of Python 2\". Python Insider. Archived from the original on 26 April 2020. Retrieved 27 April 2020.\\n\\n^ \"Stack Overflow Developer Survey 2022\". Stack Overflow. Archived from the original on 27 June 2022. Retrieved 12 August 2022.\\n\\n^ \"The State of Developer Ecosystem in 2020 Infographic\". JetBrains: Developer Tools for Professionals and Teams. Archived from the original on 1 March 2021. Retrieved 5 March 2021.\\n\\n^ a b \"TIOBE Index\". TIOBE. Archived from the original on 25 February 2018. Retrieved 3 January 2023. The TIOBE Programming Community index is an indicator of the popularity of programming languages Updated as required.\\n\\n^ \"PYPL PopularitY of Programming Language index\". pypl.github.io. Archived from the original on 14 March 2017. Retrieved 26 March 2021.\\n\\n^ a b Venners, Bill (13 January 2003). \"The Making of Python\". Artima Developer. Artima. Archived from the original on 1 September 2016. Retrieved 22 March 2007.\\n\\n^ van Rossum, Guido (29 August 2000). \"SETL (was: Lukewarm about range literals)\". Python-Dev (Mailing list). Archived from the original on 14 July 2018. Retrieved 13 March 2011.\\n\\n^ van Rossum, Guido (20 January 2009). \"A Brief Timeline of Python\". The History of Python. Archived from the original on 5 June 2020. Retrieved 20 January 2009.\\n\\n^ Fairchild, Carlie (12 July 2018). \"Guido van Rossum Stepping Down from Role as Python\\'s Benevolent Dictator For Life\". Linux Journal. Archived from the original on 13 July 2018. Retrieved 13 July 2018.\\n\\n^ \"PEP 8100\". Python Software Foundation. Archived from the original on 4 June 2020. Retrieved 4 May 2019.\\n\\n^ \"PEP 13 – Python Language Governance\". Python.org. Archived from the original on 27 May 2021. Retrieved 25 August 2021.\\n\\n^ Kuchling, A. M.; Zadka, Moshe (16 October 2000). \"What\\'s New in Python 2.0\". Python Software Foundation. Archived from the original on 23 October 2012. Retrieved 11 February 2012.\\n\\n^ van Rossum, Guido (5 April 2006). \"PEP 3000\\xa0– Python 3000\". Python Enhancement Proposals. Python Software Foundation. Archived from the original on 3 March 2016. Retrieved 27 June 2009.\\n\\n^ \"2to3 – Automated Python 2 to 3 code translation\". docs.python.org. Archived from the original on 4 June 2020. Retrieved 2 February 2021.\\n\\n^ \"PEP 373 – Python 2.7 Release Schedule\". python.org. Archived from the original on 19 May 2020. Retrieved 9 January 2017.\\n\\n^ \"PEP 466 – Network Security Enhancements for Python 2.7.x\". python.org. Archived from the original on 4 June 2020. Retrieved 9 January 2017.\\n\\n^ \"Sunsetting Python 2\". Python.org. Archived from the original on 12 January 2020. Retrieved 22 September 2019.\\n\\n^ \"PEP 373 – Python 2.7 Release Schedule\". Python.org. Archived from the original on 13 January 2020. Retrieved 22 September 2019.\\n\\n^ \"Python Release Python 3.7.17\". Python.org. Archived from the original on 31 July 2023. Retrieved 18 August 2023.\\n\\n^ mattip (25 December 2023). \"PyPy v7.3.14 release\". PyPy. Archived from the original on 5 January 2024. Retrieved 5 January 2024.\\n\\n^ \"CVE-2021-3177\". Red Hat Customer Portal. Archived from the original on 6 March 2021. Retrieved 26 February 2021.\\n\\n^ \"CVE-2021-3177\". CVE. Archived from the original on 27 February 2021. Retrieved 26 February 2021.\\n\\n^ \"CVE-2021-23336\". CVE. Archived from the original on 24 February 2021. Retrieved 26 February 2021.\\n\\n^ Langa, Łukasz (24 March 2022). \"Python 3.10.4 and 3.9.12 are now available out of schedule\". Python Insider. Archived from the original on 21 April 2022. Retrieved 19 April 2022.\\n\\n^ Langa, Łukasz (16 March 2022). \"Python 3.10.3, 3.9.11, 3.8.13, and 3.7.13 are now available with security content\". Python Insider. Archived from the original on 17 April 2022. Retrieved 19 April 2022.\\n\\n^ Langa, Łukasz (17 May 2022). \"Python 3.9.13 is now available\". Python Insider. Archived from the original on 17 May 2022. Retrieved 21 May 2022.\\n\\n^ Langa, Łukasz (7 September 2022). \"Python releases 3.10.7, 3.9.14, 3.8.14, and 3.7.14 are now available\". Python Insider. Archived from the original on 13 September 2022. Retrieved 16 September 2022.\\n\\n^ \"CVE-2020-10735\". CVE. Archived from the original on 20 September 2022. Retrieved 16 September 2022.\\n\\n^ corbet (24 October 2022). \"Python 3.11 released [LWN.net]\". lwn.net. Retrieved 15 November 2022.\\n\\n^ \"Python\". endoflife.date. 10 August 2023. Archived from the original on 18 September 2021. Retrieved 15 August 2023.\\n\\n^ \"What\\'s New In Python 3.13\". Python documentation. Retrieved 30 April 2024.\\n\\n^ Wouters, Thomas (9 April 2024). \"Python Insider: Python 3.12.3 and 3.13.0a6 released\". Python Insider. Retrieved 29 April 2024.\\n\\n^ The Cain Gang Ltd. \"Python Metaclasses: Who? Why? When?\" (PDF). Archived from the original (PDF) on 30 May 2009. Retrieved 27 June 2009.\\n\\n^ \"3.3. Special method names\". The Python Language Reference. Python Software Foundation. Archived from the original on 15 December 2018. Retrieved 27 June 2009.\\n\\n^ \"PyDBC: method preconditions, method postconditions and class invariants for Python\". Archived from the original on 23 November 2019. Retrieved 24 September 2011.\\n\\n^ \"Contracts for Python\". Archived from the original on 15 June 2020. Retrieved 24 September 2011.\\n\\n^ \"PyDatalog\". Archived from the original on 13 June 2020. Retrieved 22 July 2012.\\n\\n^ \"Extending and Embedding the Python Interpreter: Reference Counts\". Docs.python.org. Archived from the original on 18 October 2012. Retrieved 5 June 2020. Since Python makes heavy use of malloc() and free(), it needs a strategy to avoid memory leaks as well as the use of freed memory. The chosen method is called reference counting.\\n\\n^ a b Hettinger, Raymond (30 January 2002). \"PEP 289\\xa0– Generator Expressions\". Python Enhancement Proposals. Python Software Foundation. Archived from the original on 14 June 2020. Retrieved 19 February 2012.\\n\\n^ \"6.5 itertools\\xa0– Functions creating iterators for efficient looping\". Docs.python.org. Archived from the original on 14 June 2020. Retrieved 22 November 2016.\\n\\n^ a b Peters, Tim (19 August 2004). \"PEP 20\\xa0– The Zen of Python\". Python Enhancement Proposals. Python Software Foundation. Archived from the original on 26 December 2018. Retrieved 24 November 2008.\\n\\n^ Lutz, Mark (January 2022). \"Python Changes 2014+\". Learning Python. Archived from the original on 15 March 2024. Retrieved 25 February 2024.\\n\\n^ Thomas, Robin (3 May 2023). \"Python is not a great programming language\". GitHub Gist. Archived from the original on 31 December 2023. Retrieved 25 February 2024.\\n\\n^ \"Confusion regarding a rule in The Zen of Python\". Python Help - Discussions on Python.org. 3 May 2022. Archived from the original on 25 February 2024. Retrieved 25 February 2024.\\n\\n^ Ambi, Chetan (4 July 2021). \"The Most Controversial Python Walrus Operator\". Python Simplified. Archived from the original on 27 August 2023. Retrieved 5 February 2024.\\n\\n^ Grifski, Jeremy (24 May 2020). \"The Controversy Behind The Walrus Operator in Python\". The Renegade Coder. Archived from the original on 28 December 2023. Retrieved 25 February 2024.\\n\\n^ Bader, Dan. \"Python String Formatting Best Practices\". Real Python. Archived from the original on 18 February 2024. Retrieved 25 February 2024.\\n\\n^ Martelli, Alex; Ravenscroft, Anna; Ascher, David (2005). Python Cookbook, 2nd Edition. O\\'Reilly Media. p.\\xa0230. ISBN\\xa0978-0-596-00797-3. Archived from the original on 23 February 2020. Retrieved 14 November 2015.\\n\\n^ \"Python Culture\". ebeab. 21 January 2014. Archived from the original on 30 January 2014.\\n\\n^ a b \"Transpiling Python to Julia using PyJL\" (PDF). Archived (PDF) from the original on 19 November 2023. Retrieved 20 September 2023. After manually modifying one line of code by specifying the necessary type information, we obtained a speedup of 52.6×, making the translated Julia code 19.5× faster than the original Python code.\\n\\n^ \"Why is it called Python?\". General Python FAQ. Docs.python.org. Archived from the original on 24 October 2012. Retrieved 3 January 2023.\\n\\n^ \"15 Ways Python Is a Powerful Force on the Web\". Archived from the original on 11 May 2019. Retrieved 3 July 2018.\\n\\n^ \"pprint – Data pretty printer – Python 3.11.0 documentation\". docs.python.org. Archived from the original on 22 January 2021. Retrieved 5 November 2022. stuff=[\\'spam\\', \\'eggs\\', \\'lumberjack\\', \\'knights\\', \\'ni\\']\\n\\n^ \"Code Style – The Hitchhiker\\'s Guide to Python\". docs.python-guide.org. Archived from the original on 27 January 2021. Retrieved 20 January 2021.\\n\\n^ \"Is Python a good language for beginning programmers?\". General Python FAQ. Python Software Foundation. Archived from the original on 24 October 2012. Retrieved 21 March 2007.\\n\\n^ \"Myths about indentation in Python\". Secnetix.de. Archived from the original on 18 February 2018. Retrieved 19 April 2011.\\n\\n^ Guttag, John V. (12 August 2016). Introduction to Computation and Programming Using Python: With Application to Understanding Data. MIT Press. ISBN\\xa0978-0-262-52962-4.\\n\\n^ \"PEP 8 – Style Guide for Python Code\". Python.org. Archived from the original on 17 April 2019. Retrieved 26 March 2019.\\n\\n^ \"8. Errors and Exceptions – Python 3.12.0a0 documentation\". docs.python.org. Archived from the original on 9 May 2022. Retrieved 9 May 2022.\\n\\n^ \"Highlights: Python 2.5\". Python.org. Archived from the original on 4 August 2019. Retrieved 20 March 2018.\\n\\n^ van Rossum, Guido (22 April 2009). \"Tail Recursion Elimination\". Neopythonic.blogspot.be. Archived from the original on 19 May 2018. Retrieved 3 December 2012.\\n\\n^ van Rossum, Guido (9 February 2006). \"Language Design Is Not Just Solving Puzzles\". Artima forums. Artima. Archived from the original on 17 January 2020. Retrieved 21 March 2007.\\n\\n^ van Rossum, Guido; Eby, Phillip J. (10 May 2005). \"PEP 342\\xa0– Coroutines via Enhanced Generators\". Python Enhancement Proposals. Python Software Foundation. Archived from the original on 29 May 2020. Retrieved 19 February 2012.\\n\\n^ \"PEP 380\". Python.org. Archived from the original on 4 June 2020. Retrieved 3 December 2012.\\n\\n^ \"division\". python.org. Archived from the original on 20 July 2006. Retrieved 30 July 2014.\\n\\n^ \"PEP 0465 – A dedicated infix operator for matrix multiplication\". python.org. Archived from the original on 4 June 2020. Retrieved 1 January 2016.\\n\\n^ \"Python 3.5.1 Release and Changelog\". python.org. Archived from the original on 14 May 2020. Retrieved 1 January 2016.\\n\\n^ \"What\\'s New in Python 3.8\". Archived from the original on 8 June 2020. Retrieved 14 October 2019.\\n\\n^ van Rossum, Guido; Hettinger, Raymond (7 February 2003). \"PEP 308\\xa0– Conditional Expressions\". Python Enhancement Proposals. Python Software Foundation. Archived from the original on 13 March 2016. Retrieved 13 July 2011.\\n\\n^ \"4. Built-in Types – Python 3.6.3rc1 documentation\". python.org. Archived from the original on 14 June 2020. Retrieved 1 October 2017.\\n\\n^ \"5.3. Tuples and Sequences – Python 3.7.1rc2 documentation\". python.org. Archived from the original on 10 June 2020. Retrieved 17 October 2018.\\n\\n^ a b \"PEP 498 – Literal String Interpolation\". python.org. Archived from the original on 15 June 2020. Retrieved 8 March 2017.\\n\\n^ \"Why must \\'self\\' be used explicitly in method definitions and calls?\". Design and History FAQ. Python Software Foundation. Archived from the original on 24 October 2012. Retrieved 19 February 2012.\\n\\n^ Sweigart, Al (2020). Beyond the Basic Stuff with Python: Best Practices for Writing Clean Code. No Starch Press. p.\\xa0322. ISBN\\xa0978-1-59327-966-0. Archived from the original on 13 August 2021. Retrieved 7 July 2021.\\n\\n^ \"The Python Language Reference, section 3.3. New-style and classic classes, for release 2.7.1\". Archived from the original on 26 October 2012. Retrieved 12 January 2011.\\n\\n^ \"PEP 484 – Type Hints | peps.python.org\". peps.python.org. Archived from the original on 27 November 2023. Retrieved 29 November 2023.\\n\\n^ \"typing — Support for type hints\". Python documentation. Python Software Foundation. Archived from the original on 21 February 2020. Retrieved 22 December 2023.\\n\\n^ \"mypy – Optional Static Typing for Python\". Archived from the original on 6 June 2020. Retrieved 28 January 2017.\\n\\n^ \"Introduction\". mypyc.readthedocs.io. Archived from the original on 22 December 2023. Retrieved 22 December 2023.\\n\\n^ \"15. Floating Point Arithmetic: Issues and Limitations – Python 3.8.3 documentation\". docs.python.org. Archived from the original on 6 June 2020. Retrieved 6 June 2020. Almost all machines today (November 2000) use IEEE-754 floating point arithmetic, and almost all platforms map Python floats to IEEE-754 \"double precision\".\\n\\n^ Zadka, Moshe; van Rossum, Guido (11 March 2001). \"PEP 237\\xa0– Unifying Long Integers and Integers\". Python Enhancement Proposals. Python Software Foundation. Archived from the original on 28 May 2020. Retrieved 24 September 2011.\\n\\n^ \"Built-in Types\". Archived from the original on 14 June 2020. Retrieved 3 October 2019.\\n\\n^ \"PEP 465 – A dedicated infix operator for matrix multiplication\". python.org. Archived from the original on 29 May 2020. Retrieved 3 July 2018.\\n\\n^ a b Zadka, Moshe; van Rossum, Guido (11 March 2001). \"PEP 238\\xa0– Changing the Division Operator\". Python Enhancement Proposals. Python Software Foundation. Archived from the original on 28 May 2020. Retrieved 23 October 2013.\\n\\n^ \"Why Python\\'s Integer Division Floors\". 24 August 2010. Archived from the original on 5 June 2020. Retrieved 25 August 2010.\\n\\n^ \"round\", The Python standard library, release 3.2, §2: Built-in functions, archived from the original on 25 October 2012, retrieved 14 August 2011\\n\\n^ \"round\", The Python standard library, release 2.7, §2: Built-in functions, archived from the original on 27 October 2012, retrieved 14 August 2011\\n\\n^ Beazley, David M. (2009). Python Essential Reference (4th\\xa0ed.). Addison-Wesley Professional. p.\\xa066. ISBN\\xa09780672329784.\\n\\n^ Kernighan, Brian W.; Ritchie, Dennis M. (1988). The C Programming Language (2nd\\xa0ed.). p.\\xa0206.\\n\\n^ a b Batista, Facundo (17 October 2003). \"PEP 327\\xa0– Decimal Data Type\". Python Enhancement Proposals. Python Software Foundation. Archived from the original on 4 June 2020. Retrieved 24 November 2008.\\n\\n^ \"What\\'s New in Python 2.6\". Python v2.6.9 documentation. 29 October 2013. Archived from the original on 23 December 2019. Retrieved 26 September 2015.\\n\\n^ \"10 Reasons Python Rocks for Research (And a Few Reasons it Doesn\\'t) – Hoyt Koepke\". University of Washington Department of Statistics. Archived from the original on 31 May 2020. Retrieved 3 February 2019.\\n\\n^ Shell, Scott (17 June 2014). \"An introduction to Python for scientific computing\" (PDF). Archived (PDF) from the original on 4 February 2019. Retrieved 3 February 2019.\\n\\n^ Piotrowski, Przemyslaw (July 2006). \"Build a Rapid Web Development Environment for Python Server Pages and Oracle\". Oracle Technology Network. Oracle. Archived from the original on 2 April 2019. Retrieved 12 March 2012.\\n\\n^ Eby, Phillip J. (7 December 2003). \"PEP 333\\xa0– Python Web Server Gateway Interface v1.0\". Python Enhancement Proposals. Python Software Foundation. Archived from the original on 14 June 2020. Retrieved 19 February 2012.\\n\\n^ \"PyPI\". PyPI. 17 March 2024. Archived from the original on 17 March 2024.\\n\\n^ Enthought, Canopy. \"Canopy\". www.enthought.com. Archived from the original on 15 July 2017. Retrieved 20 August 2016.\\n\\n^ \"PEP 7 – Style Guide for C Code | peps.python.org\". peps.python.org. Archived from the original on 24 April 2022. Retrieved 28 April 2022.\\n\\n^ \"4. Building C and C++ Extensions – Python 3.9.2 documentation\". docs.python.org. Archived from the original on 3 March 2021. Retrieved 1 March 2021.\\n\\n^ van Rossum, Guido (5 June 2001). \"PEP 7\\xa0– Style Guide for C Code\". Python Enhancement Proposals. Python Software Foundation. Archived from the original on 1 June 2020. Retrieved 24 November 2008.\\n\\n^ \"CPython byte code\". Docs.python.org. Archived from the original on 5 June 2020. Retrieved 16 February 2016.\\n\\n^ \"Python 2.5 internals\" (PDF). Archived (PDF) from the original on 6 August 2012. Retrieved 19 April 2011.\\n\\n^ \"Changelog – Python 3.9.0 documentation\". docs.python.org. Archived from the original on 7 February 2021. Retrieved 8 February 2021.\\n\\n^ \"Download Python\". Python.org. Archived from the original on 8 December 2020. Retrieved 13 December 2020.\\n\\n^ \"history [vmspython]\". www.vmspython.org. Archived from the original on 2 December 2020. Retrieved 4 December 2020.\\n\\n^ \"An Interview with Guido van Rossum\". Oreilly.com. Archived from the original on 16 July 2014. Retrieved 24 November 2008.\\n\\n^ \"Download Python for Other Platforms\". Python.org. Archived from the original on 27 November 2020. Retrieved 4 December 2020.\\n\\n^ \"PyPy compatibility\". Pypy.org. Archived from the original on 6 June 2020. Retrieved 3 December 2012.\\n\\n^ Team, The PyPy (28 December 2019). \"Download and Install\". PyPy. Archived from the original on 8 January 2022. Retrieved 8 January 2022.\\n\\n^ \"speed comparison between CPython and Pypy\". Speed.pypy.org. Archived from the original on 10 May 2021. Retrieved 3 December 2012.\\n\\n^ \"Application-level Stackless features – PyPy 2.0.2 documentation\". Doc.pypy.org. Archived from the original on 4 June 2020. Retrieved 17 July 2013.\\n\\n^ \"Python-for-EV3\". LEGO Education. Archived from the original on 7 June 2020. Retrieved 17 April 2019.\\n\\n^ Yegulalp, Serdar (29 October 2020). \"Pyston returns from the dead to speed Python\". InfoWorld. Archived from the original on 27 January 2021. Retrieved 26 January 2021.\\n\\n^ \"cinder: Instagram\\'s performance-oriented fork of CPython\". GitHub. Archived from the original on 4 May 2021. Retrieved 4 May 2021.\\n\\n^ Aroca, Rafael (7 August 2021). \"Snek Lang: feels like Python on Arduinos\". Yet Another Technology Blog. Archived from the original on 5 January 2024. Retrieved 4 January 2024.\\n\\n^ Aufranc (CNXSoft), Jean-Luc (16 January 2020). \"Snekboard Controls LEGO Power Functions with CircuitPython or Snek Programming Languages (Crowdfunding) - CNX Software\". CNX Software - Embedded Systems News. Archived from the original on 5 January 2024. Retrieved 4 January 2024.\\n\\n^ Kennedy (@mkennedy), Michael. \"Ready to find out if you\\'re git famous?\". pythonbytes.fm. Archived from the original on 5 January 2024. Retrieved 4 January 2024.\\n\\n^ Packard, Keith (20 December 2022). \"The Snek Programming Language: A Python-inspired Embedded Computing Language\" (PDF). Archived (PDF) from the original on 4 January 2024. Retrieved 4 January 2024.\\n\\n^ \"Plans for optimizing Python\". Google Project Hosting. 15 December 2009. Archived from the original on 11 April 2016. Retrieved 24 September 2011.\\n\\n^ \"Python on the Nokia N900\". Stochastic Geometry. 29 April 2010. Archived from the original on 20 June 2019. Retrieved 9 July 2015.\\n\\n^ \"Brython\". brython.info. Archived from the original on 3 August 2018. Retrieved 21 January 2021.\\n\\n^ \"Transcrypt – Python in the browser\". transcrypt.org. Archived from the original on 19 August 2018. Retrieved 22 December 2020.\\n\\n^ \"Transcrypt: Anatomy of a Python to JavaScript Compiler\". InfoQ. Archived from the original on 5 December 2020. Retrieved 20 January 2021.\\n\\n^ \"Codon: Differences with Python\". Archived from the original on 25 May 2023. Retrieved 28 August 2023.\\n\\n^ Lawson, Loraine (14 March 2023). \"MIT-Created Compiler Speeds up Python Code\". The New Stack. Archived from the original on 6 April 2023. Retrieved 28 August 2023.\\n\\n^ \"Nuitka Home | Nuitka Home\". nuitka.net. Archived from the original on 30 May 2020. Retrieved 18 August 2017.\\n\\n^ Guelton, Serge; Brunet, Pierrick; Amini, Mehdi; Merlini, Adrien; Corbillon, Xavier; Raynaud, Alan (16 March 2015). \"Pythran: enabling static optimization of scientific Python programs\". Computational Science & Discovery. 8 (1). IOP Publishing: 014001. Bibcode:2015CS&D....8a4001G. doi:10.1088/1749-4680/8/1/014001. ISSN\\xa01749-4699.\\n\\n^ \"The Python → 11l → C++ transpiler\". Archived from the original on 24 September 2022. Retrieved 17 July 2022.\\n\\n^ \"google/grumpy\". 10 April 2020. Archived from the original on 15 April 2020. Retrieved 25 March 2020 – via GitHub.\\n\\n^ \"Projects\". opensource.google. Archived from the original on 24 April 2020. Retrieved 25 March 2020.\\n\\n^ Francisco, Thomas Claburn in San. \"Google\\'s Grumpy code makes Python Go\". www.theregister.com. Archived from the original on 7 March 2021. Retrieved 20 January 2021.\\n\\n^ \"GitHub – IronLanguages/ironpython3: Implementation of Python 3.x for .NET Framework that is built on top of the Dynamic Language Runtime\". GitHub. Archived from the original on 28 September 2021.\\n\\n^ \"IronPython.net /\". ironpython.net. Archived from the original on 17 April 2021.\\n\\n^ \"Jython FAQ\". www.jython.org. Archived from the original on 22 April 2021. Retrieved 22 April 2021.\\n\\n^ Murri, Riccardo (2013). Performance of Python runtimes on a non-numeric scientific code. European Conference on Python in Science (EuroSciPy). arXiv:1404.6388. Bibcode:2014arXiv1404.6388M.\\n\\n^ \"The Computer Language Benchmarks Game\". Archived from the original on 14 June 2020. Retrieved 30 April 2020.\\n\\n^ a b Warsaw, Barry; Hylton, Jeremy; Goodger, David (13 June 2000). \"PEP 1\\xa0– PEP Purpose and Guidelines\". Python Enhancement Proposals. Python Software Foundation. Archived from the original on 6 June 2020. Retrieved 19 April 2011.\\n\\n^ \"PEP 8 – Style Guide for Python Code\". Python.org. Archived from the original on 17 April 2019. Retrieved 26 March 2019.\\n\\n^ Cannon, Brett. \"Guido, Some Guys, and a Mailing List: How Python is Developed\". python.org. Python Software Foundation. Archived from the original on 1 June 2009. Retrieved 27 June 2009.\\n\\n^ \"Moving Python\\'s bugs to GitHub [LWN.net]\". Archived from the original on 2 October 2022. Retrieved 2 October 2022.\\n\\n^ \"Python Developer\\'s Guide – Python Developer\\'s Guide\". devguide.python.org. Archived from the original on 9 November 2020. Retrieved 17 December 2019.\\n\\n^ Hughes, Owen (24 May 2021). \"Programming languages: Why Python 4.0 might never arrive, according to its creator\". TechRepublic. Archived from the original on 14 July 2022. Retrieved 16 May 2022.\\n\\n^ \"PEP 602 – Annual Release Cycle for Python\". Python.org. Archived from the original on 14 June 2020. Retrieved 6 November 2019.\\n\\n^ \"Changing the Python release cadence [LWN.net]\". lwn.net. Archived from the original on 6 November 2019. Retrieved 6 November 2019.\\n\\n^ Norwitz, Neal (8 April 2002). \"[Python-Dev] Release Schedules (was Stability & change)\". Archived from the original on 15 December 2018. Retrieved 27 June 2009.\\n\\n^ a b Aahz; Baxter, Anthony (15 March 2001). \"PEP 6\\xa0– Bug Fix Releases\". Python Enhancement Proposals. Python Software Foundation. Archived from the original on 5 June 2020. Retrieved 27 June 2009.\\n\\n^ \"Python Buildbot\". Python Developer\\'s Guide. Python Software Foundation. Archived from the original on 5 June 2020. Retrieved 24 September 2011.\\n\\n^ \"1. Extending Python with C or C++ – Python 3.9.1 documentation\". docs.python.org. Archived from the original on 23 June 2020. Retrieved 14 February 2021.\\n\\n^ \"PEP 623 – Remove wstr from Unicode\". Python.org. Archived from the original on 5 March 2021. Retrieved 14 February 2021.\\n\\n^ \"PEP 634 – Structural Pattern Matching: Specification\". Python.org. Archived from the original on 6 May 2021. Retrieved 14 February 2021.\\n\\n^ \"Documentation Tools\". Python.org. Archived from the original on 11 November 2020. Retrieved 22 March 2021.\\n\\n^ a b \"Whetting Your Appetite\". The Python Tutorial. Python Software Foundation. Archived from the original on 26 October 2012. Retrieved 20 February 2012.\\n\\n^ \"In Python, should I use else after a return in an if block?\". Stack Overflow. Stack Exchange. 17 February 2011. Archived from the original on 20 June 2019. Retrieved 6 May 2011.\\n\\n^ Lutz, Mark (2009). Learning Python: Powerful Object-Oriented Programming. O\\'Reilly Media, Inc. p.\\xa017. ISBN\\xa09781449379322. Archived from the original on 17 July 2017. Retrieved 9 May 2017.\\n\\n^ Fehily, Chris (2002). Python. Peachpit Press. p.\\xa0xv. ISBN\\xa09780201748840. Archived from the original on 17 July 2017. Retrieved 9 May 2017.\\n\\n^ Lubanovic, Bill (2014). Introducing Python. Sebastopol, CA\\xa0: O\\'Reilly Media. p.\\xa0305. ISBN\\xa0978-1-4493-5936-2. Retrieved 31 July 2023.\\n\\n^ Blake, Troy (18 January 2021). \"TIOBE Index for January 2021\". Technology News and Information by SeniorDBA. Archived from the original on 21 March 2021. Retrieved 26 February 2021.\\n\\n^ \"Quotes about Python\". Python Software Foundation. Archived from the original on 3 June 2020. Retrieved 8 January 2012.\\n\\n^ \"Organizations Using Python\". Python Software Foundation. Archived from the original on 21 August 2018. Retrieved 15 January 2009.\\n\\n^ \"Python\\xa0: the holy grail of programming\". CERN Bulletin (31/2006). CERN Publications. 31 July 2006. Archived from the original on 15 January 2013. Retrieved 11 February 2012.\\n\\n^ Shafer, Daniel G. (17 January 2003). \"Python Streamlines Space Shuttle Mission Design\". Python Software Foundation. Archived from the original on 5 June 2020. Retrieved 24 November 2008.\\n\\n^ \"Tornado: Facebook\\'s Real-Time Web Framework for Python – Facebook for Developers\". Facebook for Developers. Archived from the original on 19 February 2019. Retrieved 19 June 2018.\\n\\n^ \"What Powers Instagram: Hundreds of Instances, Dozens of Technologies\". Instagram Engineering. 11 December 2016. Archived from the original on 15 June 2020. Retrieved 27 May 2019.\\n\\n^ \"How we use Python at Spotify\". Spotify Labs. 20 March 2013. Archived from the original on 10 June 2020. Retrieved 25 July 2018.\\n\\n^ Fortenberry, Tim (17 January 2003). \"Industrial Light & Magic Runs on Python\". Python Software Foundation. Archived from the original on 6 June 2020. Retrieved 11 February 2012.\\n\\n^ Taft, Darryl K. (5 March 2007). \"Python Slithers into Systems\". eWeek.com. Ziff Davis Holdings. Archived from the original on 13 August 2021. Retrieved 24 September 2011.\\n\\n^ GitHub – reddit-archive/reddit: historical code from reddit.com., The Reddit Archives, archived from the original on 1 June 2020, retrieved 20 March 2019\\n\\n^ \"Usage statistics and market share of Python for websites\". 2012. Archived from the original on 13 August 2021. Retrieved 18 December 2012.\\n\\n^ Oliphant, Travis (2007). \"Python for Scientific Computing\". Computing in Science and Engineering. 9 (3): 10–20. Bibcode:2007CSE.....9c..10O. CiteSeerX\\xa010.1.1.474.6460. doi:10.1109/MCSE.2007.58. S2CID\\xa0206457124. Archived from the original on 15 June 2020. Retrieved 10 April 2015.\\n\\n^ Millman, K. Jarrod; Aivazis, Michael (2011). \"Python for Scientists and Engineers\". Computing in Science and Engineering. 13 (2): 9–12. Bibcode:2011CSE....13b...9M. doi:10.1109/MCSE.2011.36. Archived from the original on 19 February 2019. Retrieved 7 July 2014.\\n\\n^ Science education with SageMath, Innovative Computing in Science Education, archived from the original on 15 June 2020, retrieved 22 April 2019\\n\\n^ \"OpenCV: OpenCV-Python Tutorials\". docs.opencv.org. Archived from the original on 23 September 2020. Retrieved 14 September 2020.\\n\\n^ Dean, Jeff; Monga, Rajat; et\\xa0al. (9 November 2015). \"TensorFlow: Large-scale machine learning on heterogeneous systems\" (PDF). TensorFlow.org. Google Research. Archived (PDF) from the original on 20 November 2015. Retrieved 10 November 2015.\\n\\n^ Piatetsky, Gregory. \"Python eats away at R: Top Software for Analytics, Data Science, Machine Learning in 2018: Trends and Analysis\". KDnuggets. Archived from the original on 15 November 2019. Retrieved 30 May 2018.\\n\\n^ \"Who is using scikit-learn? – scikit-learn 0.20.1 documentation\". scikit-learn.org. Archived from the original on 6 May 2020. Retrieved 30 November 2018.\\n\\n^ Jouppi, Norm. \"Google supercharges machine learning tasks with TPU custom chip\". Google Cloud Platform Blog. Archived from the original on 18 May 2016. Retrieved 19 May 2016.\\n\\n^ De Raedt, Luc; Kimmig, Angelika (2015). \"Probabilistic (logic) programming concepts\". Machine Learning. 100 (1): 5–47. doi:10.1007/s10994-015-5494-z. S2CID\\xa03166992.\\n\\n^ \"Natural Language Toolkit – NLTK 3.5b1 documentation\". www.nltk.org. Archived from the original on 13 June 2020. Retrieved 10 April 2020.\\n\\n^ Andersen, C. and Swift, T., 2023. The Janus System: a bridge to new prolog applications. In Prolog: The Next 50 Years (pp. 93-104). Cham: Springer Nature Switzerland.\\n\\n^ \"SWI-Prolog Python interface\". Archived from the original on 15 March 2024. Retrieved 15 March 2024.\\n\\n^ Tarau, P., 2023. Reflections on automation, learnability and expressiveness in logic-based programming languages. In Prolog: The Next 50 Years (pp. 359-371). Cham: Springer Nature Switzerland.\\n\\n^ \"Tkinter — Python interface to TCL/Tk\". Archived from the original on 18 October 2012. Retrieved 9 June 2023.\\n\\n^ \"Python Tkinter Tutorial\". 3 June 2020. Archived from the original on 9 June 2023. Retrieved 9 June 2023.\\n\\n^ \"Installers for GIMP for Windows – Frequently Asked Questions\". 26 July 2013. Archived from the original on 17 July 2013. Retrieved 26 July 2013.\\n\\n^ \"jasc psp9components\". Archived from the original on 19 March 2008.\\n\\n^ \"About getting started with writing geoprocessing scripts\". ArcGIS Desktop Help 9.2. Environmental Systems Research Institute. 17 November 2006. Archived from the original on 5 June 2020. Retrieved 11 February 2012.\\n\\n^ CCP porkbelly (24 August 2010). \"Stackless Python 2.7\". EVE Community Dev Blogs. CCP Games. Archived from the original on 11 January 2014. Retrieved 11 January 2014. As you may know, EVE has at its core the programming language known as Stackless Python.\\n\\n^ Caudill, Barry (20 September 2005). \"Modding Sid Meier\\'s Civilization IV\". Sid Meier\\'s Civilization IV Developer Blog. Firaxis Games. Archived from the original on 2 December 2010. we created three levels of tools ... The next level offers Python and XML support, letting modders with more experience manipulate the game world and everything in it.\\n\\n^ \"Python Language Guide (v1.0)\". Google Documents List Data API v1.0. Archived from the original on 15 July 2010.\\n\\n^ \"Python Setup and Usage\". Python Software Foundation. Archived from the original on 17 June 2020. Retrieved 10 January 2020.\\n\\n^ \"Immunity: Knowing You\\'re Secure\". Archived from the original on 16 February 2009.\\n\\n^ \"Core Security\". Core Security. Archived from the original on 9 June 2020. Retrieved 10 April 2020.\\n\\n^ \"What is Sugar?\". Sugar Labs. Archived from the original on 9 January 2009. Retrieved 11 February 2012.\\n\\n^ \"4.0 New Features and Fixes\". LibreOffice.org. The Document Foundation. 2013. Archived from the original on 9 February 2014. Retrieved 25 February 2013.\\n\\n^ \"Gotchas for Python Users\". boo.codehaus.org. Codehaus Foundation. Archived from the original on 11 December 2008. Retrieved 24 November 2008.\\n\\n^ Esterbrook, Charles. \"Acknowledgements\". cobra-language.com. Cobra Language. Archived from the original on 8 February 2008. Retrieved 7 April 2010.\\n\\n^ \"Proposals: iterators and generators [ES4 Wiki]\". wiki.ecmascript.org. Archived from the original on 20 October 2007. Retrieved 24 November 2008.\\n\\n^ \"Frequently asked questions\". Godot Engine documentation. Archived from the original on 28 April 2021. Retrieved 10 May 2021.\\n\\n^ Kincaid, Jason (10 November 2009). \"Google\\'s Go: A New Programming Language That\\'s Python Meets C++\". TechCrunch. Archived from the original on 18 January 2010. Retrieved 29 January 2010.\\n\\n^ Strachan, James (29 August 2003). \"Groovy\\xa0– the birth of a new dynamic language for the Java platform\". Archived from the original on 5 April 2007. Retrieved 11 June 2007.\\n\\n^ \"Modular Docs - Why Mojo\". docs.modular.com. Archived from the original on 5 May 2023. Retrieved 5 May 2023. Mojo as a member of the Python family [..] Embracing Python massively simplifies our design efforts, because most of the syntax is already specified.  [..] we decided that the right long-term goal for Mojo is to provide a superset of Python (i.e. be compatible with existing programs) and to embrace the CPython immediately for long-tail ecosystem enablement. To a Python programmer, we expect and hope that Mojo will be immediately familiar, while also providing new tools for developing systems-level code that enable you to do things that Python falls back to C and C++ for.\\n\\n^ Spencer, Michael (4 May 2023). \"What is Mojo Programming Language?\". datasciencelearningcenter.substack.com. Archived from the original on 5 May 2023. Retrieved 5 May 2023.\\n\\n^ Yegulalp, Serdar (16 January 2017). \"Nim language draws from best of Python, Rust, Go, and Lisp\". InfoWorld. Archived from the original on 13 October 2018. Retrieved 7 June 2020. Nim\\'s syntax is strongly reminiscent of Python\\'s, as it uses indented code blocks and some of the same syntax (such as the way if/elif/then/else blocks are constructed).\\n\\n^ \"An Interview with the Creator of Ruby\". Linuxdevcenter.com. Archived from the original on 28 April 2018. Retrieved 3 December 2012.\\n\\n^ Lattner, Chris (3 June 2014). \"Chris Lattner\\'s Homepage\". Chris Lattner. Archived from the original on 22 December 2015. Retrieved 3 June 2014. I started work on the Swift Programming Language in July of 2010. I implemented much of the basic language structure, with only a few people knowing of its existence. A few other (amazing) people started contributing in earnest late in 2011, and it became a major focus for the Apple Developer Tools group in July 2013 [...] drawing ideas from Objective-C, Rust, Haskell, Ruby, Python, C#, CLU, and far too many others to list.\\n\\n^ Jalan, Nishant Aanjaney (10 November 2022). \"Programming in Kotlin\". CodeX. Retrieved 29 April 2024.\\n\\n^ Kupries, Andreas; Fellows, Donal K. (14 September 2000). \"TIP #3: TIP Format\". tcl.tk. Tcl Developer Xchange. Archived from the original on 13 July 2017. Retrieved 24 November 2008.\\n\\n^ Gustafsson, Per; Niskanen, Raimo (29 January 2007). \"EEP 1: EEP Purpose and Guidelines\". erlang.org. Archived from the original on 15 June 2020. Retrieved 19 April 2011.\\n\\n^ \"Swift Evolution Process\". Swift Programming Language Evolution repository on GitHub. 18 February 2020. Archived from the original on 27 April 2020. Retrieved 27 April 2020.\\n\\n\\nSources[edit]\\n\"Python for Artificial Intelligence\". Python Wiki. 19 July 2012. Archived from the original on 1 November 2012. Retrieved 3 December 2012.\\nPaine, Jocelyn, ed. (August 2005). \"AI in Python\". AI Expert Newsletter. Amzi!. Archived from the original on 26 March 2012. Retrieved 11 February 2012.\\n\"PyAIML 0.8.5\\xa0: Python Package Index\". Pypi.python.org. Retrieved 17 July 2013.\\nRussell, Stuart J. & Norvig, Peter (2009). Artificial Intelligence: A Modern Approach (3rd\\xa0ed.). Upper Saddle River, NJ: Prentice Hall. ISBN\\xa0978-0-13-604259-4.\\nFurther reading[edit]\\nDowney, Allen B. (May 2012). Think Python: How to Think Like a Computer Scientist (version 1.6.6\\xa0ed.). Cambridge University Press. ISBN\\xa0978-0-521-72596-5.\\nHamilton, Naomi (5 August 2008). \"The A-Z of Programming Languages: Python\". Computerworld. Archived from the original on 29 December 2008. Retrieved 31 March 2010.\\nLutz, Mark (2013). Learning Python (5th\\xa0ed.). O\\'Reilly Media. ISBN\\xa0978-0-596-15806-4.\\nSummerfield, Mark (2009). Programming in Python 3 (2nd\\xa0ed.). Addison-Wesley Professional. ISBN\\xa0978-0-321-68056-3.\\nRamalho, Luciano (May 2022). Fluent Python. O\\'Reilly Media. ISBN\\xa0978-1-4920-5632-4.\\nExternal links[edit]\\n\\n\\nPython  at Wikipedia\\'s sister projects\\n\\nMedia from CommonsQuotations from WikiquoteTextbooks from WikibooksResources from WikiversityData from Wikidata\\n\\nOfficial website \\nvtePythonImplementations\\nCircuitPython\\nCLPython\\nCPython\\nCython\\nMicroPython\\nNumba\\nIronPython\\nJython\\nPsyco\\nPyPy\\nPython for S60\\nShed Skin\\nStackless Python\\nUnladen Swallow\\nmore...\\nIDE\\nEric Python IDE\\nIDLE\\nNinja-IDE\\nPyCharm\\nPyDev\\nSpyder\\nmore...\\nTopics\\nWSGI\\nASGI\\n\\nsoftware (list)\\nPython Software Foundation\\nPyCon\\n\\nvteProgramming languages\\nComparison\\nTimeline\\nHistory\\n\\nAda\\nALGOL\\nAPL\\nArkTS\\nAssembly\\nBASIC\\nC\\nC++\\nC#\\nClassic Visual Basic\\nCOBOL\\nErlang\\nForth\\nFortran\\nGo\\nHaskell\\nJava\\nJavaScript\\nJulia\\nKotlin\\nLisp\\nLua\\nMATLAB\\nML\\nObject Pascal\\nPascal\\nPerl\\nPHP\\nProlog\\nPython\\nR\\nRuby\\nRust\\nSQL\\nScratch\\nShell\\nSimula\\nSmalltalk\\nSwift\\nVisual Basic\\nmore...\\n\\n Lists: Alphabetical\\nCategorical\\nGenerational\\nNon-English-based\\n Category\\n\\nvtePython web frameworks\\nBottle\\nCherryPy\\nCubicWeb\\nDjango\\nFastAPI\\nFlask\\nGrok\\nNevow\\nPylons\\nPyramid\\nQuixote\\nTACTIC\\nTornado\\nTurboGears\\nTwistedWeb\\nweb2py\\nZope 2\\nmore...\\n\\nvteDifferentiable computingGeneral\\nDifferentiable programming\\nInformation geometry\\nStatistical manifold\\nAutomatic differentiation\\nNeuromorphic engineering\\nPattern recognition\\nTensor calculus\\nComputational learning theory\\nInductive bias\\nConcepts\\nGradient descent\\nSGD\\nClustering\\nRegression\\nOverfitting\\nHallucination\\nAdversary\\nAttention\\nConvolution\\nLoss functions\\nBackpropagation\\nBatchnorm\\nActivation\\nSoftmax\\nSigmoid\\nRectifier\\nRegularization\\nDatasets\\nAugmentation\\nDiffusion\\nAutoregression\\nApplications\\nMachine learning\\nIn-context learning\\nArtificial neural network\\nDeep learning\\nScientific computing\\nArtificial Intelligence\\nLanguage model\\nLarge language model\\nHardware\\nIPU\\nTPU\\nVPU\\nMemristor\\nSpiNNaker\\nSoftware libraries\\nTensorFlow\\nPyTorch\\nKeras\\nTheano\\nJAX\\nFlux.jl\\nMindSpore\\nImplementationsAudio–visual\\nAlexNet\\nWaveNet\\nHuman image synthesis\\nHWR\\nOCR\\nSpeech synthesis\\nSpeech recognition\\nFacial recognition\\nAlphaFold\\nText-to-image models\\nDALL-E\\nMidjourney\\nStable Diffusion\\nText-to-video models\\nSora\\nVideoPoet\\nWhisper\\nVerbal\\nWord2vec\\nSeq2seq\\nBERT\\nGemini\\nLaMDA\\nBard\\nNMT\\nProject Debater\\nIBM Watson\\nIBM Watsonx\\nGranite\\nGPT-1\\nGPT-2\\nGPT-3\\nGPT-4\\nChatGPT\\nGPT-J\\nChinchilla AI\\nPaLM\\nBLOOM\\nLLaMA\\nPanGu-Σ\\nDecisional\\nAlphaGo\\nAlphaZero\\nQ-learning\\nSARSA\\nOpenAI Five\\nSelf-driving car\\nMuZero\\nAction selection\\nAuto-GPT\\nRobot control\\nPeople\\nYoshua Bengio\\nAlex Graves\\nIan Goodfellow\\nStephen Grossberg\\nDemis Hassabis\\nGeoffrey Hinton\\nYann LeCun\\nFei-Fei Li\\nAndrew Ng\\nJürgen Schmidhuber\\nDavid Silver\\nIlya Sutskever\\nOrganizations\\nAnthropic\\nEleutherAI\\nGoogle DeepMind\\nHugging Face\\nOpenAI\\nMeta AI\\nMila\\nMIT CSAIL\\nHuawei\\nArchitectures\\nNeural Turing machine\\nDifferentiable neural computer\\nTransformer\\nRecurrent neural network (RNN)\\nLong short-term memory (LSTM)\\nGated recurrent unit (GRU)\\nEcho state network\\nMultilayer perceptron (MLP)\\nConvolutional neural network\\nResidual neural network\\nMamba\\nAutoencoder\\nVariational autoencoder (VAE)\\nGenerative adversarial network (GAN)\\nGraph neural network\\n\\n Portals\\nComputer programming\\nTechnology\\n Categories\\nArtificial neural networks\\nMachine learning\\n\\nvteFree and open-source softwareGeneral\\nAlternative terms for free software\\nComparison of open-source and closed-source software\\nComparison of source-code-hosting facilities\\nFree software\\nFree software project directories\\nGratis versus libre\\nLong-term support\\nOpen-source software\\nOpen-source software development\\nOutline\\nTimeline\\nSoftwarepackages\\nAudio\\nBioinformatics\\nCodecs\\nConfiguration management\\nDrivers\\nGraphics\\nWireless\\nHealth\\nMathematics\\nOffice suites\\nOperating systems\\nRouting\\nTelevision\\nVideo games\\nWeb applications\\nE-commerce\\nAndroid apps\\niOS apps\\nCommercial\\nFormerly proprietary\\nFormerly open-source\\nCommunity\\nFree software movement\\nHistory\\nOpen-source-software movement\\nEvents\\nAdvocacy\\nOrganisations\\nFree Software Movement of India\\nFree Software Foundation\\nLicenses\\nAFL\\nApache\\nAPSL\\nArtistic\\nBeerware\\nBSD\\nCreative Commons\\nCDDL\\nEPL\\nFree Software Foundation\\nGNU GPL\\nGNU AGPL\\nGNU LGPL\\nISC\\nMIT\\nMPL\\nPython\\nPython Software Foundation License\\nShared Source Initiative\\nSleepycat\\nUnlicense\\nWTFPL\\nzlib\\nTypes and standards\\nComparison of licenses\\nContributor License Agreement\\nCopyleft\\nDebian Free Software Guidelines\\nDefinition of Free Cultural Works\\nFree license\\nThe Free Software Definition\\nThe Open Source Definition\\nOpen-source license\\nPermissive software license\\nPublic domain\\nViral license\\n\\nChallenges\\nDigital rights management\\nLicense proliferation\\nMozilla software rebranding\\nProprietary device drivers\\nProprietary firmware\\nProprietary software\\nSCO/Linux controversies\\nSoftware patents\\nSoftware security\\nTrusted Computing\\nRelated topics\\nForking\\nGNU Manifesto\\nMicrosoft Open Specification Promise\\nOpen-core model\\nOpen-source hardware\\nShared Source Initiative\\nSource-available software\\nThe Cathedral and the Bazaar\\nRevolution OS\\n\\n Portal\\n Category\\n\\nvteStatistical softwarePublic domain\\nDataplot\\nEpi Info\\nCSPro\\nX-12-ARIMA\\nOpen-source\\nADMB\\nDAP\\ngretl\\nJASP\\nJAGS\\nJMulTi\\nJulia\\nJupyter (Julia, Python, R)\\nGNU Octave\\nOpenBUGS\\nOrange\\nPSPP\\nPython (statsmodels, PyMC3, IPython, IDLE)\\nR (RStudio)\\nSageMath\\nSimFiT\\nSOFA Statistics\\nStan\\nXLispStat\\nFreeware\\nBV4.1\\nCumFreq\\nSegReg\\nXploRe\\nWinBUGS\\nCommercialCross-platform\\nData Desk\\nGAUSS\\nGraphPad InStat\\nGraphPad Prism\\nIBM SPSS Statistics\\nIBM SPSS Modeler\\nJMP\\nMaple\\nMathcad\\nMathematica\\nMATLAB\\nOxMetrics\\nRATS\\nRevolution Analytics\\nSAS\\nSmartPLS\\nStata\\nStatView\\nSUDAAN\\nS-PLUS\\nTSP\\nWorld Programming System (WPS)\\nWindows only\\nBMDP\\nEViews\\nGenStat\\nLIMDEP\\nLISREL\\nMedCalc\\nMicrofit\\nMinitab\\nMLwiN\\nNCSS\\nSHAZAM\\nSigmaStat\\nStatistica\\nStatsDirect\\nStatXact\\nSYSTAT\\nThe Unscrambler\\nUNISTAT\\nExcel add-ons\\nAnalyse-it\\nUNISTAT for Excel\\nXLfit\\nRExcel\\n\\nCategory\\nComparison\\n\\nvteNumerical-analysis softwareFree\\nAdvanced Simulation Library\\nADMB\\nChapel\\nEuler\\nFreeFem++\\nFreeMat\\nGenius\\nGmsh\\nGNU Octave\\ngretl\\nJulia\\nJupyter (Julia, Python, R; IPython)\\nMFEM\\nOpenFOAM\\nPython\\nR\\nSageMath\\nSalome\\nScicosLab\\nScilab\\nX10\\nWeka\\nDiscontinued\\nFortress\\n\\nProprietary\\nDADiSP\\nFEATool Multiphysics\\nGAUSS\\nLabVIEW\\nMaple\\nMathcad\\nMathematica\\nMATLAB\\nSpeakeasy\\nVisSim\\n\\nComparison\\n\\nAuthority control databases International\\nFAST\\nNational\\nFrance\\nBnF data\\nGermany\\nIsrael\\nUnited States\\nCzech Republic\\nOther\\nIdRef\\n\\n\\n\\n\\n\\nRetrieved from \"https://en.wikipedia.org/w/index.php?title=Python_(programming_language)&oldid=1229046173\"\\nCategories: Python (programming language)Class-based programming languagesNotebook interfaceComputer science in the NetherlandsConcurrent programming languagesCross-platform free softwareCross-platform softwareDutch inventionsDynamically typed programming languagesEducational programming languagesHigh-level programming languagesInformation technology in the NetherlandsMulti-paradigm programming languagesObject-oriented programming languagesPattern matching programming languagesProgramming languagesProgramming languages created in 1991Scripting languagesText-oriented programming languagesHidden categories: Articles with short descriptionShort description matches WikidataUse dmy dates from November 2021Articles containing potentially dated statements from October 2023All articles containing potentially dated statementsArticles containing potentially dated statements from June 2023Articles containing potentially dated statements from March 2024Articles containing potentially dated statements from December 2022Articles containing potentially dated statements from 2020Articles containing potentially dated statements from 2008Pages using Sister project links with wikidata namespace mismatchPages using Sister project links with hidden wikidataArticles with FAST identifiersArticles with BNF identifiersArticles with BNFdata identifiersArticles with GND identifiersArticles with J9U identifiersArticles with LCCN identifiersArticles with NKC identifiersArticles with SUDOC identifiersArticles with example Python (programming language) code\\n\\n\\n\\n\\n\\n\\n This page was last edited on 14 June 2024, at 15:10\\xa0(UTC).\\nText is available under the Creative Commons Attribution-ShareAlike License 4.0;\\nadditional terms may apply. By using this site, you agree to the Terms of Use and Privacy Policy. Wikipedia® is a registered trademark of the Wikimedia Foundation, Inc., a non-profit organization.\\n\\n\\nPrivacy policy\\nAbout Wikipedia\\nDisclaimers\\nContact Wikipedia\\nCode of Conduct\\nDevelopers\\nStatistics\\nCookie statement\\nMobile view\\n\\n\\n\\n\\n\\n\\n\\n\\n\\n\\n\\n\\n\\n\\n\\n\\n\\n\\n', metadata={'source': 'https://en.wikipedia.org/wiki/Python_(programming_language)', 'title': 'Python (programming language) - Wikipedia', 'language': 'en'})]"
      ]
     },
     "execution_count": 22,
     "metadata": {},
     "output_type": "execute_result"
    }
   ],
   "source": [
    "loader = WebBaseLoader(\"https://en.wikipedia.org/wiki/Python_(programming_language)\")\n",
    "docs = loader.load()\n",
    "docs"
   ]
  },
  {
   "cell_type": "code",
   "execution_count": 41,
   "metadata": {},
   "outputs": [
    {
     "data": {
      "text/plain": [
       "'Python was invented in the late 1980s by Guido van Rossum. The implementation of the language began in December 1989.'"
      ]
     },
     "execution_count": 41,
     "metadata": {},
     "output_type": "execute_result"
    }
   ],
   "source": [
    "loader = WebBaseLoader(\"https://en.wikipedia.org/wiki/Python_(programming_language)\")\n",
    "docs = loader.load()\n",
    "\n",
    "## SPLIT\n",
    "text_splitter = RecursiveCharacterTextSplitter(chunk_size=1000, chunk_overlap=200)\n",
    "splits = text_splitter.split_documents(docs)\n",
    "\n",
    "\n",
    "## Embed\n",
    "# Embedembeddings_g = GoogleGenerativeAIEmbeddings(model=\"models/embedding-001\")\n",
    "# vectorstore = Chroma.from_documents(documents = splits, embedding=GoogleGenerativeAIEmbeddings(google_api_key= os.getenv(\"GOOGLE_API_KEY\"), model=\"models/embedding-001\"))\n",
    "vectorstore = Chroma.from_documents(documents = splits, embedding=hf)\n",
    "\n",
    "retriever = vectorstore.as_retriever()\n",
    "## retriever is set to the result of calling the as_retriever() \n",
    "# method on the vectorstore object. This means that retriever \n",
    "# can be used to find documents in the vector store that are \n",
    "# semantically similar to a given query. \n",
    "\n",
    "\n",
    "## PROMPT\n",
    "prompt = hub.pull('rlm/rag-prompt')\n",
    "\n",
    "\n",
    "## LLM\n",
    "llm = ChatGoogleGenerativeAI(\n",
    "    google_api_key=os.getenv(\"GOOGLE_API_KEY\"),\n",
    "    model=\"models/gemini-pro\",\n",
    "    temperature=0.9\n",
    ")\n",
    "\n",
    "\n",
    "## Post-processing\n",
    "def format_docs(docs):\n",
    "    return '\\n\\n'.join(doc.page_content for doc in docs)\n",
    "\n",
    "\n",
    "## CHAIN\n",
    "rag_chain = (\n",
    "    {'context':retriever| format_docs, 'question': RunnablePassthrough()}\n",
    "    |prompt\n",
    "    |llm\n",
    "    |StrOutputParser()\n",
    ")\n",
    "\n",
    "\n",
    "## QUESTION\n",
    "rag_chain.invoke(\"when was python invented\")"
   ]
  },
  {
   "cell_type": "markdown",
   "metadata": {},
   "source": [
    "# Part 2: Indexing"
   ]
  },
  {
   "cell_type": "code",
   "execution_count": 42,
   "metadata": {},
   "outputs": [],
   "source": [
    "question = 'What kind of pets do I like?'\n",
    "document = 'My favourite pet is a cat'"
   ]
  },
  {
   "cell_type": "code",
   "execution_count": 48,
   "metadata": {},
   "outputs": [],
   "source": [
    "import tiktoken\n",
    "enc = tiktoken.get_encoding(\"o200k_base\")\n",
    "assert enc.decode(enc.encode(\"hello world\")) == \"hello world\"\n",
    "\n",
    "# To get the tokeniser corresponding to a specific model in the OpenAI API:\n",
    "enc = tiktoken.encoding_for_model(\"gpt-4o\")"
   ]
  },
  {
   "cell_type": "code",
   "execution_count": 52,
   "metadata": {},
   "outputs": [
    {
     "name": "stdout",
     "output_type": "stream",
     "text": [
      "[3923, 3169, 315, 26159, 656, 358, 1093, 30]\n"
     ]
    },
    {
     "data": {
      "text/plain": [
       "8"
      ]
     },
     "execution_count": 52,
     "metadata": {},
     "output_type": "execute_result"
    }
   ],
   "source": [
    "import tiktoken\n",
    "\n",
    "def num_tokens_from_string(string: str,encoding_name: str)->int:\n",
    "    enc = tiktoken.get_encoding(encoding_name)\n",
    "    encoding = enc.encode(string)\n",
    "    print(encoding)\n",
    "    nums_tokens = len(encoding)\n",
    "\n",
    "    return nums_tokens\n",
    "\n",
    "num_tokens_from_string(question, 'cl100k_base')"
   ]
  },
  {
   "cell_type": "markdown",
   "metadata": {},
   "source": [
    "## text embeddings"
   ]
  },
  {
   "cell_type": "code",
   "execution_count": 55,
   "metadata": {},
   "outputs": [
    {
     "name": "stderr",
     "output_type": "stream",
     "text": [
      "D:\\Lib\\site-packages\\huggingface_hub\\file_download.py:1132: FutureWarning: `resume_download` is deprecated and will be removed in version 1.0.0. Downloads always resume when possible. If you want to force a new download, use `force_download=True`.\n",
      "  warnings.warn(\n"
     ]
    },
    {
     "data": {
      "text/plain": [
       "768"
      ]
     },
     "execution_count": 55,
     "metadata": {},
     "output_type": "execute_result"
    }
   ],
   "source": [
    "from langchain_huggingface import HuggingFaceEmbeddings\n",
    "\n",
    "embd = HuggingFaceEmbeddings()\n",
    "\n",
    "query_result = embd.embed_query(question)\n",
    "document_result = embd.embed_query(document)\n",
    "\n",
    "len(query_result)"
   ]
  },
  {
   "cell_type": "code",
   "execution_count": 107,
   "metadata": {},
   "outputs": [],
   "source": [
    "from langchain_openai import ChatOpenAI, OpenAIEmbeddings\n",
    "\n",
    "embeddings = OpenAIEmbeddings()\n",
    "llm = ChatOpenAI(model_name='gpt-3.5-turbo', temperature=0.9)"
   ]
  },
  {
   "cell_type": "markdown",
   "metadata": {},
   "source": [
    "## `Cosine Similarity`:\n",
    " is recommended for OpenAI embeddings. 1 means identical"
   ]
  },
  {
   "cell_type": "code",
   "execution_count": 58,
   "metadata": {},
   "outputs": [
    {
     "name": "stdout",
     "output_type": "stream",
     "text": [
      "cosine_similarity: 0.5844920257124517\n"
     ]
    }
   ],
   "source": [
    "import numpy as np\n",
    "\n",
    "def cosine_similarity(vec1,vec2):\n",
    "    dot_product = np.dot(vec1,vec2)\n",
    "    norm_vec1 = np.linalg.norm(vec1)\n",
    "    norm_vec2 = np.linalg.norm(vec2)\n",
    "    return dot_product / (norm_vec1 * norm_vec2)\n",
    "\n",
    "similarity = cosine_similarity(query_result, document_result)\n",
    "print('cosine_similarity:',similarity)"
   ]
  },
  {
   "cell_type": "markdown",
   "metadata": {},
   "source": [
    "## Document Loader"
   ]
  },
  {
   "cell_type": "markdown",
   "metadata": {},
   "source": [
    "SoupStrainer: Parsing only part of a document.\n",
    "\n",
    "You just create a SoupStrainer and pass it in to the BeautifulSoup constructor as the parse_only argument.\n",
    "\n",
    "class_ == html classes in the webpage"
   ]
  },
  {
   "cell_type": "code",
   "execution_count": 95,
   "metadata": {},
   "outputs": [],
   "source": [
    "import bs4\n",
    "from langchain_community.document_loaders import WebBaseLoader\n",
    "\n",
    "loader = WebBaseLoader(\n",
    "    \"https://lilianweng.github.io/posts/2023-06-23-agent/\",\n",
    "    bs_kwargs = dict(\n",
    "        parse_only = bs4.SoupStrainer(\n",
    "            class_ = ('post-content','post-title','post-header')\n",
    "        )\n",
    "    ),   \n",
    ")\n",
    "\n",
    "\n",
    "blog_docs = loader.load()"
   ]
  },
  {
   "cell_type": "markdown",
   "metadata": {},
   "source": [
    "## Text Splitter\n",
    "\n",
    "splitting based on tokens"
   ]
  },
  {
   "cell_type": "code",
   "execution_count": 96,
   "metadata": {},
   "outputs": [],
   "source": [
    "## split\n",
    "\n",
    "from langchain.text_splitter import RecursiveCharacterTextSplitter\n",
    "\n",
    "text_splitter = RecursiveCharacterTextSplitter.from_tiktoken_encoder(\n",
    "    chunk_size = 300,\n",
    "    chunk_overlap = 50\n",
    ")\n",
    "\n",
    "## Make splits\n",
    "\n",
    "splits = text_splitter.split_documents(blog_docs)"
   ]
  },
  {
   "cell_type": "markdown",
   "metadata": {},
   "source": [
    "## Vectorstore"
   ]
  },
  {
   "cell_type": "code",
   "execution_count": 115,
   "metadata": {},
   "outputs": [
    {
     "name": "stderr",
     "output_type": "stream",
     "text": [
      "D:\\Lib\\site-packages\\huggingface_hub\\file_download.py:1132: FutureWarning: `resume_download` is deprecated and will be removed in version 1.0.0. Downloads always resume when possible. If you want to force a new download, use `force_download=True`.\n",
      "  warnings.warn(\n"
     ]
    }
   ],
   "source": [
    "## Index\n",
    "from langchain_huggingface import HuggingFaceEmbeddings\n",
    "from langchain_openai import OpenAIEmbeddings\n",
    "from langchain_community.vectorstores import Chroma\n",
    "\n",
    "vectorstore = Chroma.from_documents(documents=splits, embedding = HuggingFaceEmbeddings())\n",
    "\n",
    "retriever = vectorstore.as_retriever()\n"
   ]
  },
  {
   "cell_type": "markdown",
   "metadata": {},
   "source": [
    "# Part 3: Retrieval"
   ]
  },
  {
   "cell_type": "code",
   "execution_count": 116,
   "metadata": {},
   "outputs": [
    {
     "name": "stderr",
     "output_type": "stream",
     "text": [
      "D:\\Lib\\site-packages\\huggingface_hub\\file_download.py:1132: FutureWarning: `resume_download` is deprecated and will be removed in version 1.0.0. Downloads always resume when possible. If you want to force a new download, use `force_download=True`.\n",
      "  warnings.warn(\n"
     ]
    }
   ],
   "source": [
    "from langchain_huggingface import HuggingFaceEmbeddings\n",
    "from langchain.vectorstores import Chroma\n",
    "\n",
    "vectorstore = Chroma.from_documents(documents=splits, embedding=HuggingFaceEmbeddings())\n",
    "\n",
    "retriever = vectorstore.as_retriever(search_kwargs={'k':1})\n",
    "# k nearest neighbors"
   ]
  },
  {
   "cell_type": "code",
   "execution_count": 72,
   "metadata": {},
   "outputs": [],
   "source": [
    "# docs = retriever.get_relevant_documents('what is Task Decomposition?')\n",
    "docs = retriever.invoke('what is Task Decomposition?')"
   ]
  },
  {
   "cell_type": "code",
   "execution_count": 73,
   "metadata": {},
   "outputs": [
    {
     "data": {
      "text/plain": [
       "3"
      ]
     },
     "execution_count": 73,
     "metadata": {},
     "output_type": "execute_result"
    }
   ],
   "source": [
    "len(docs)"
   ]
  },
  {
   "cell_type": "markdown",
   "metadata": {},
   "source": [
    "# Part 4: Genaration"
   ]
  },
  {
   "cell_type": "code",
   "execution_count": 75,
   "metadata": {},
   "outputs": [
    {
     "data": {
      "text/plain": [
       "ChatPromptTemplate(input_variables=['context', 'question'], messages=[HumanMessagePromptTemplate(prompt=PromptTemplate(input_variables=['context', 'question'], template='Answer the questions based only on the following context:\\n{context}\\nQuestion: {question}\\n'))])"
      ]
     },
     "execution_count": 75,
     "metadata": {},
     "output_type": "execute_result"
    }
   ],
   "source": [
    "from langchain_google_genai import ChatGoogleGenerativeAI\n",
    "from langchain.prompts import ChatPromptTemplate\n",
    "\n",
    "# Prompt\n",
    "template = '''Answer the questions based only on the following context:\n",
    "{context}\n",
    "Question: {question}\n",
    "'''\n",
    "\n",
    "prompt = ChatPromptTemplate.from_template(template)\n",
    "\n",
    "prompt"
   ]
  },
  {
   "cell_type": "code",
   "execution_count": 118,
   "metadata": {},
   "outputs": [],
   "source": [
    "# LLM\n",
    "\n",
    "llm = ChatGoogleGenerativeAI(model='models/gemini-pro',temperature=1)\n",
    "llm = ChatOpenAI(model_name='gpt-3.5-turbo', temperature=0.9)"
   ]
  },
  {
   "cell_type": "code",
   "execution_count": 119,
   "metadata": {},
   "outputs": [],
   "source": [
    "# Cha\n",
    "\n",
    "chain = prompt|llm"
   ]
  },
  {
   "cell_type": "code",
   "execution_count": 120,
   "metadata": {},
   "outputs": [
    {
     "data": {
      "text/plain": [
       "AIMessage(content='Task Decomposition refers to the process of breaking down user requests or tasks into multiple sub-tasks or components, each with its own attributes such as task type, ID, dependencies, and arguments. This process is carried out by the LLM system in the context of how HuggingGPT works.', response_metadata={'token_usage': {'completion_tokens': 60, 'prompt_tokens': 399, 'total_tokens': 459}, 'model_name': 'gpt-3.5-turbo', 'system_fingerprint': None, 'finish_reason': 'stop', 'logprobs': None}, id='run-235d7bf5-e1c3-41c1-93cf-c17c003b843e-0', usage_metadata={'input_tokens': 399, 'output_tokens': 60, 'total_tokens': 459})"
      ]
     },
     "execution_count": 120,
     "metadata": {},
     "output_type": "execute_result"
    }
   ],
   "source": [
    "# Run\n",
    "\n",
    "chain.invoke({'context' : docs, \"question\":\"what is Task Decompostion\"})"
   ]
  },
  {
   "cell_type": "code",
   "execution_count": 121,
   "metadata": {},
   "outputs": [],
   "source": [
    "from langchain import hub\n",
    "prompt_hub_rag = hub.pull('rlm/rag-prompt')"
   ]
  },
  {
   "cell_type": "code",
   "execution_count": 122,
   "metadata": {},
   "outputs": [
    {
     "data": {
      "text/plain": [
       "ChatPromptTemplate(input_variables=['context', 'question'], metadata={'lc_hub_owner': 'rlm', 'lc_hub_repo': 'rag-prompt', 'lc_hub_commit_hash': '50442af133e61576e74536c6556cefe1fac147cad032f4377b60c436e6cdcb6e'}, messages=[HumanMessagePromptTemplate(prompt=PromptTemplate(input_variables=['context', 'question'], template=\"You are an assistant for question-answering tasks. Use the following pieces of retrieved context to answer the question. If you don't know the answer, just say that you don't know. Use three sentences maximum and keep the answer concise.\\nQuestion: {question} \\nContext: {context} \\nAnswer:\"))])"
      ]
     },
     "execution_count": 122,
     "metadata": {},
     "output_type": "execute_result"
    }
   ],
   "source": [
    "prompt_hub_rag"
   ]
  },
  {
   "cell_type": "markdown",
   "metadata": {},
   "source": [
    "### RAG chains"
   ]
  },
  {
   "cell_type": "code",
   "execution_count": 124,
   "metadata": {},
   "outputs": [
    {
     "data": {
      "text/plain": [
       "'Task decomposition is the process of breaking down a task into smaller subtasks or components, as described in the context provided.'"
      ]
     },
     "execution_count": 124,
     "metadata": {},
     "output_type": "execute_result"
    }
   ],
   "source": [
    "from langchain_core.output_parsers import StrOutputParser\n",
    "from langchain_core.runnables import RunnablePassthrough\n",
    "\n",
    "rag_chain = (\n",
    "    {'context': retriever, 'question': RunnablePassthrough()}\n",
    "    |prompt\n",
    "    |llm\n",
    "    |StrOutputParser()\n",
    ")\n",
    "\n",
    "rag_chain.invoke('what is task decomposition')"
   ]
  }
 ],
 "metadata": {
  "kernelspec": {
   "display_name": "Python 3 (ipykernel)",
   "language": "python",
   "name": "python3"
  }
 },
 "nbformat": 4,
 "nbformat_minor": 2
}
